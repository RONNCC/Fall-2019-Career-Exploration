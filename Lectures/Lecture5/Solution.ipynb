{
 "cells": [
  {
   "cell_type": "markdown",
   "metadata": {},
   "source": [
    "# Lecture 3: Data Visualization and Linear Regression\n",
    "\n",
    "## 3/4/19\n",
    "\n",
    "### Table of Contents\n",
    "* [Matplotlib](#matplotlib)  \n",
    "    * [Anatomy of a Plot](#anatomy)  \n",
    "    * [Plots](#plots)  \n",
    "        * [Line Plots](#line)    \n",
    "        * [Formatting Plots](#formatting)\n",
    "        * [Bar Plots](#bar)\n",
    "        * [Histograms](#histogram)\n",
    "        * [Scatterplots](#scatter)\n",
    "        * [Pie Charts](#pie)\n",
    "        * [Subplots](#subplot)\n",
    "        * [Ticks](#ticks)\n",
    "* [Regression](#regression)\n",
    "    * [Introduction](#intro)\n",
    "        * [What Is A Model?](#what_model)\n",
    "        * [Why Make A Model?](#why_model)\n",
    "        * [Categorical Variables](#categorical)\n",
    "    * [Linear Regression](#linear_regression)\n",
    "        * [Simple Linear Regression](#simple)\n",
    "        * [Loss and the Line of Best Fit](#loss)\n",
    "        * [Ordinary Least Squares](#ols)\n",
    "        * [Making the Model](#making_model)\n",
    "        * [Interpreting the Model](#interpreting_model)\n",
    "        * [Assessing the Model](#assessment)\n",
    "            * [Coefficient of Determination ($R^2$)](#r_squared)\n",
    "            * [Residual Plots](#residual_plots)\n",
    "        * [When Can I Use A Linear Model?](#when_to_use)\n",
    "        * [Multiple Linear Regression](#multiple)\n",
    "\n",
    "\n",
    "### Hosted by and maintained by the [Statistics Undergraduate Students Association (SUSA)](https://susa.berkeley.edu). Authored by [Rosa Choe](mailto:rosachoe@berkeley.edu) and [Alay Modi](mailto:alaymodi@berkeley.edu)"
   ]
  },
  {
   "cell_type": "markdown",
   "metadata": {},
   "source": [
    "# Data Visualization"
   ]
  },
  {
   "cell_type": "markdown",
   "metadata": {},
   "source": [
    "Last week you all learned about NumPy and Pandas, libraries that help you work with data efficiently as NumPy arrays/matrices and represent it in readable Pandas tables.\n",
    "\n",
    "However, despite the better readability that Pandas provides and NumPy's tools to help you work with data efficiently, some patterns in data are hard to see when you're just looking at the raw data as numbers. A really helpful tool to discover patterns in data is *visualization*. As you might guess, this means *visualizing* your data through graphs"
   ]
  },
  {
   "cell_type": "markdown",
   "metadata": {},
   "source": [
    "<a id='matplotlib'></a>\n",
    "\n",
    "## Matplotlib\n",
    "\n",
    "[Matplotlib](https://matplotlib.org/) is a Python library that allows you to create a variety of different types of plots and figures. The complexity of plots you can make in Matplotlib range from simple scatter plots to interactive 3d plots. We'll mostly be focusing on a specific module of Matplotlib called PyPlot, which was made to be the Python analog to Matlab's plotting functionality. "
   ]
  },
  {
   "cell_type": "markdown",
   "metadata": {},
   "source": [
    "<a id=\"anatomy\"></a>\n",
    "\n",
    "### Anatomy of a Plot\n",
    "\n",
    "First things first, we will discuss what makes up a plot in Matplotlib, to establish some vocabulary for what we will be doing throughout this lecture."
   ]
  },
  {
   "cell_type": "code",
   "execution_count": 1,
   "metadata": {},
   "outputs": [
    {
     "data": {
      "text/plain": [
       "<Figure size 640x480 with 1 Axes>"
      ]
     },
     "metadata": {},
     "output_type": "display_data"
    }
   ],
   "source": [
    "import matplotlib.pyplot as plt\n",
    "\n",
    "# creates a plot\n",
    "plt.plot()\n",
    "\n",
    "# displays plot\n",
    "plt.show()"
   ]
  },
  {
   "cell_type": "markdown",
   "metadata": {},
   "source": [
    "This is what a general plot looks like in Matplotlib. Currently, it's not very interesting, since there's no data in it, but what we see so far is the *figure*, which is basically the canvas for whatever data we would want to plot. Like graphs you're probably familiar with, the horizontal edge is the *x-axis*, and the vertical edge is the *y-axis*. The numbered lines along the axes are called *ticks*. \n",
    "\n",
    "Below is an image of a more complex figure, labeled with all of the different parts of a Matplotlib figure. A cool tidbit is that all of this (including the information about the figure) was made in Matplotlib, using a lot of the tools we'll be learning today."
   ]
  },
  {
   "cell_type": "markdown",
   "metadata": {},
   "source": [
    "<img src='https://matplotlib.org/_images/anatomy.png' style='width: 500px; height: 500px'></img>"
   ]
  },
  {
   "cell_type": "markdown",
   "metadata": {},
   "source": [
    "As you can see above, the *figure* is the canvas in which the plot lies, and what we would usually call a plot (or graph) is called the *axes*. We generally won't work with the `figure` object, but one thing we can do with the `figure` object is resizing our plots."
   ]
  },
  {
   "cell_type": "code",
   "execution_count": 2,
   "metadata": {},
   "outputs": [
    {
     "data": {
      "image/png": "[encoded data removed]",
      "text/plain": [
       "<Figure size 432x288 with 1 Axes>"
      ]
     },
     "metadata": {
      "needs_background": "light"
     },
     "output_type": "display_data"
    }
   ],
   "source": [
    "plt.figure()\n",
    "plt.plot()\n",
    "plt.show()"
   ]
  },
  {
   "cell_type": "code",
   "execution_count": 3,
   "metadata": {},
   "outputs": [
    {
     "data": {
      "image/png": "[encoded data removed]",
      "text/plain": [
       "<Figure size 720x720 with 1 Axes>"
      ]
     },
     "metadata": {
      "needs_background": "light"
     },
     "output_type": "display_data"
    }
   ],
   "source": [
    "plt.figure(figsize=(10, 10))\n",
    "plt.plot()\n",
    "plt.show()"
   ]
  },
  {
   "cell_type": "markdown",
   "metadata": {},
   "source": [
    "<a id='plots'></a>\n",
    "\n",
    "## Plots"
   ]
  },
  {
   "cell_type": "markdown",
   "metadata": {},
   "source": [
    "<a id='line'></a>\n",
    "\n",
    "### Line Plots\n",
    "\n",
    "The most basic type of plot in Matplotlib is a line plot. It is created using the `plt.plot()` function that we used above. To get a line graph, all we need to do is pass in some data as an argument! This can be in the form of a NumPy array or a regular Python list, so let's try it out!"
   ]
  },
  {
   "cell_type": "code",
   "execution_count": 4,
   "metadata": {},
   "outputs": [
    {
     "data": {
      "image/png": "[encoded data removed]",
      "text/plain": [
       "<Figure size 432x288 with 1 Axes>"
      ]
     },
     "metadata": {
      "needs_background": "light"
     },
     "output_type": "display_data"
    }
   ],
   "source": [
    "plt.plot([1, 3, 2, 4, 5])\n",
    "plt.show()"
   ]
  },
  {
   "cell_type": "markdown",
   "metadata": {},
   "source": [
    "This is one way to use `plt.plot()`, by passing in a single array representing the y-values you want to plot. You can use the `shift+tab` trick to see what arguments `plt.plot()` takes in. When you plot values in this way, it will automatically assign x-values as a range from 0 up to the length of the y-values you passed in.\n",
    "\n",
    "If you want to define the x-values, you can just pass them in as the first argument, so you have the option of calling plot in either of the following ways:\n",
    "    \n",
    "    plt.plot(y_values)\n",
    "    plt.plot(x_values, y_values)"
   ]
  },
  {
   "cell_type": "code",
   "execution_count": 5,
   "metadata": {},
   "outputs": [
    {
     "data": {
      "image/png": "[encoded data removed]",
      "text/plain": [
       "<Figure size 432x288 with 1 Axes>"
      ]
     },
     "metadata": {
      "needs_background": "light"
     },
     "output_type": "display_data"
    }
   ],
   "source": [
    "plt.plot([2, 7, 13, 15], [1, 4, 9, 16])\n",
    "plt.show();"
   ]
  },
  {
   "cell_type": "markdown",
   "metadata": {},
   "source": [
    "As is, it's hard to tell what we're plotting here. Although this is made up data, if we were making a plot with real data, we would want to label our axes and give the plot a title so other people looking at it would have context as to what we were plotting. We can add labels and a title in the following way:"
   ]
  },
  {
   "cell_type": "code",
   "execution_count": 6,
   "metadata": {},
   "outputs": [
    {
     "data": {
      "image/png": "[encoded data removed]",
      "text/plain": [
       "<Figure size 432x288 with 1 Axes>"
      ]
     },
     "metadata": {
      "needs_background": "light"
     },
     "output_type": "display_data"
    }
   ],
   "source": [
    "plt.plot([2, 7, 13, 15], [1, 4, 9, 16])\n",
    "plt.title('X vs. Y')\n",
    "plt.xlabel('X')\n",
    "plt.ylabel('Y')\n",
    "plt.show();"
   ]
  },
  {
   "cell_type": "code",
   "execution_count": 7,
   "metadata": {},
   "outputs": [],
   "source": [
    "import pandas as pd \n",
    "import numpy as np\n",
    "\n",
    "titanic_train = pd.read_csv('titanic/train.csv')\n",
    "titanic_test = pd.read_csv('titanic/test.csv')"
   ]
  },
  {
   "cell_type": "markdown",
   "metadata": {},
   "source": [
    "**Practice:** Make a plot of the first 5 values of `Age` from the `titanic_train`. Don't forget to label your axes and give your graph a title."
   ]
  },
  {
   "cell_type": "code",
   "execution_count": 8,
   "metadata": {},
   "outputs": [
    {
     "data": {
      "image/png": "[encoded data removed]",
      "text/plain": [
       "<Figure size 432x288 with 1 Axes>"
      ]
     },
     "metadata": {
      "needs_background": "light"
     },
     "output_type": "display_data"
    }
   ],
   "source": [
    "plt.plot(titanic_train['Age'][:5])\n",
    "plt.xlabel('Passenger')\n",
    "plt.ylabel('Age')\n",
    "plt.title('Age of 5 Passengers of Titanic')\n",
    "plt.show();"
   ]
  },
  {
   "cell_type": "markdown",
   "metadata": {},
   "source": [
    "<a id='formatting'></a>\n",
    "\n",
    "#### Formatting Plots"
   ]
  },
  {
   "cell_type": "markdown",
   "metadata": {},
   "source": [
    "What if you wanted to make your line red instead of blue? Or dashed? Pyplot has a built in feature for formatting your plots, in the form of a *format string* as an optional argument to any plot function. Format strings are of the form:\n",
    "\n",
    "    fmt = '[color][marker][line]'\n",
    "\n",
    "Each of these are represented by a character (or two), and each is optional. Here are some examples of options for formatting. For a more complete list of options check out the **Notes** section at [this link](https://matplotlib.org/api/_as_gen/matplotlib.pyplot.plot.html)\n",
    "- color: sets color\n",
    "    - `b` blue\n",
    "    - `b` green\n",
    "    - `r` red\n",
    "- marker: sets the shape of points (for scatter plots)\n",
    "    - `.` point\n",
    "    - `o` circle\n",
    "    - `*` star\n",
    "- line: sets the style of the line\n",
    "    - `-` solid line\n",
    "    - `--` dashed line\n",
    "    - `:` dotted line"
   ]
  },
  {
   "cell_type": "markdown",
   "metadata": {},
   "source": [
    "**Practice:** Edit the previous plot to have a dashed line with circles on each data point."
   ]
  },
  {
   "cell_type": "code",
   "execution_count": 9,
   "metadata": {},
   "outputs": [
    {
     "data": {
      "image/png": "[encoded data removed]",
      "text/plain": [
       "<Figure size 432x288 with 1 Axes>"
      ]
     },
     "metadata": {
      "needs_background": "light"
     },
     "output_type": "display_data"
    }
   ],
   "source": [
    "plt.plot(titanic_train['Age'][:5], 'o--')\n",
    "plt.xlabel('Passenger')\n",
    "plt.ylabel('Age')\n",
    "plt.title('Age of 5 Passengers of Titanic')\n",
    "plt.show();"
   ]
  },
  {
   "cell_type": "markdown",
   "metadata": {},
   "source": [
    "<a id='bar'></a>\n",
    "\n",
    "### Bar Plots"
   ]
  },
  {
   "cell_type": "markdown",
   "metadata": {},
   "source": [
    "We can make bar plots by using the `plt.bar()` function."
   ]
  },
  {
   "cell_type": "code",
   "execution_count": 10,
   "metadata": {},
   "outputs": [
    {
     "data": {
      "image/png": "[encoded data removed]",
      "text/plain": [
       "<Figure size 432x288 with 1 Axes>"
      ]
     },
     "metadata": {
      "needs_background": "light"
     },
     "output_type": "display_data"
    }
   ],
   "source": [
    "names = ['group_a', 'group_b', 'group_c']\n",
    "values = [1, 10, 100]\n",
    "plt.bar(names, values)\n",
    "\n",
    "plt.title('Bar Graph')\n",
    "plt.xlabel('some groups')\n",
    "plt.ylabel('y')\n",
    "\n",
    "plt.show();"
   ]
  },
  {
   "cell_type": "markdown",
   "metadata": {},
   "source": [
    "**Practice:** Make a bar plot of the counts of people who survived versus people who didn't survive. The counts are provided for you below"
   ]
  },
  {
   "cell_type": "code",
   "execution_count": 11,
   "metadata": {},
   "outputs": [
    {
     "data": {
      "text/plain": [
       "Survived\n",
       "0    549\n",
       "1    342\n",
       "dtype: int64"
      ]
     },
     "execution_count": 11,
     "metadata": {},
     "output_type": "execute_result"
    }
   ],
   "source": [
    "survived_counts = titanic_train.groupby('Survived').size()\n",
    "survived_counts"
   ]
  },
  {
   "cell_type": "code",
   "execution_count": 12,
   "metadata": {},
   "outputs": [
    {
     "data": {
      "image/png": "[encoded data removed]",
      "text/plain": [
       "<Figure size 432x288 with 1 Axes>"
      ]
     },
     "metadata": {
      "needs_background": "light"
     },
     "output_type": "display_data"
    }
   ],
   "source": [
    "plt.bar(['Died', 'Survived'], survived_counts)\n",
    "\n",
    "plt.title('Number of People Who Died and Survived')\n",
    "plt.xlabel('Category')\n",
    "plt.ylabel('Number of People')\n",
    "\n",
    "plt.show();"
   ]
  },
  {
   "cell_type": "markdown",
   "metadata": {},
   "source": [
    "<a id='histogram'></a>\n",
    "\n",
    "### Histograms\n",
    "\n",
    "You can make a histogram using `plt.hist()`."
   ]
  },
  {
   "cell_type": "code",
   "execution_count": 13,
   "metadata": {},
   "outputs": [
    {
     "data": {
      "image/png": "[encoded data removed]",
      "text/plain": [
       "<Figure size 432x288 with 1 Axes>"
      ]
     },
     "metadata": {
      "needs_background": "light"
     },
     "output_type": "display_data"
    }
   ],
   "source": [
    "N_points = 100000\n",
    "n_bins = 20\n",
    "\n",
    "x = np.random.randn(N_points)\n",
    "plt.hist(x, bins = n_bins, color = \"g\")\n",
    "plt.title('Histogram')\n",
    "plt.xlabel('some numbers')\n",
    "plt.ylabel('y')\n",
    "plt.show();"
   ]
  },
  {
   "cell_type": "markdown",
   "metadata": {},
   "source": [
    "**Practice:** Make a histogram of the fare prices paid by the passengers of the Titanic."
   ]
  },
  {
   "cell_type": "code",
   "execution_count": 14,
   "metadata": {},
   "outputs": [
    {
     "data": {
      "image/png": "[encoded data removed]",
      "text/plain": [
       "<Figure size 432x288 with 1 Axes>"
      ]
     },
     "metadata": {
      "needs_background": "light"
     },
     "output_type": "display_data"
    }
   ],
   "source": [
    "plt.hist(titanic_train['Fare'])\n",
    "plt.title('Titanic Fare Prices')\n",
    "plt.xlabel('Fare (£)')\n",
    "plt.ylabel('Number Paid')\n",
    "plt.show();"
   ]
  },
  {
   "cell_type": "markdown",
   "metadata": {},
   "source": [
    "<a id='scatter'></a>\n",
    "\n",
    "### Scatterplots\n",
    "\n",
    "`plt.scatter()` makes scatter plots."
   ]
  },
  {
   "cell_type": "code",
   "execution_count": 15,
   "metadata": {},
   "outputs": [
    {
     "data": {
      "image/png": "[encoded data removed]",
      "text/plain": [
       "<Figure size 432x288 with 1 Axes>"
      ]
     },
     "metadata": {
      "needs_background": "light"
     },
     "output_type": "display_data"
    }
   ],
   "source": [
    "N_points = 1000\n",
    "x = np.random.randn(N_points)\n",
    "y = np.random.randn(N_points)\n",
    "plt.scatter(x,y)\n",
    "\n",
    "plt.title('Scatterplot')\n",
    "plt.xlabel('some numbers')\n",
    "plt.ylabel('y')\n",
    "plt.show();"
   ]
  },
  {
   "cell_type": "markdown",
   "metadata": {},
   "source": [
    "**Practice:** Make a scatterplot of `Age` versus `Fare`."
   ]
  },
  {
   "cell_type": "code",
   "execution_count": 16,
   "metadata": {
    "scrolled": true
   },
   "outputs": [
    {
     "data": {
      "image/png": "[encoded data removed]",
      "text/plain": [
       "<Figure size 432x288 with 1 Axes>"
      ]
     },
     "metadata": {
      "needs_background": "light"
     },
     "output_type": "display_data"
    }
   ],
   "source": [
    "plt.scatter(titanic_train['Age'], titanic_train['Fare'])\n",
    "plt.title('Age vs. Fare')\n",
    "plt.xlabel('Age')\n",
    "plt.ylabel('Fare')\n",
    "plt.show();"
   ]
  },
  {
   "cell_type": "markdown",
   "metadata": {},
   "source": [
    "<a id='pie'></a>\n",
    "### Pie Charts"
   ]
  },
  {
   "cell_type": "code",
   "execution_count": 17,
   "metadata": {},
   "outputs": [
    {
     "data": {
      "image/png": "[encoded data removed]",
      "text/plain": [
       "<Figure size 432x288 with 1 Axes>"
      ]
     },
     "metadata": {},
     "output_type": "display_data"
    }
   ],
   "source": [
    "labels = ['Frogs', 'Hogs', 'Dogs', 'Logs']\n",
    "sizes = [15, 30, 45, 10]\n",
    "plt.pie(sizes, labels=labels)\n",
    "plt.show();"
   ]
  },
  {
   "cell_type": "markdown",
   "metadata": {},
   "source": [
    "**Practice:** Make a pie chart of the proportions of people who survived by class. The data is provided in the `proportion_survived` variable."
   ]
  },
  {
   "cell_type": "code",
   "execution_count": 18,
   "metadata": {},
   "outputs": [
    {
     "data": {
      "text/plain": [
       "Pclass\n",
       "1    0.629630\n",
       "2    0.472826\n",
       "3    0.242363\n",
       "Name: Survived, dtype: float64"
      ]
     },
     "execution_count": 18,
     "metadata": {},
     "output_type": "execute_result"
    }
   ],
   "source": [
    "proportion_survived = titanic_train.groupby('Pclass')['Survived'].mean()\n",
    "proportion_survived"
   ]
  },
  {
   "cell_type": "code",
   "execution_count": 19,
   "metadata": {},
   "outputs": [
    {
     "data": {
      "image/png": "[encoded data removed]",
      "text/plain": [
       "<Figure size 432x288 with 1 Axes>"
      ]
     },
     "metadata": {},
     "output_type": "display_data"
    }
   ],
   "source": [
    "plt.pie(titanic_train.groupby('Pclass')['Survived'].mean(), labels=['First Class', 'Second Class', 'Third Class'])\n",
    "plt.show();"
   ]
  },
  {
   "cell_type": "markdown",
   "metadata": {},
   "source": [
    "If you want to get more practice making plots on Matplotlib, or would like some additional resources for the functionality of Matplotlib, take a look [here](https://matplotlib.org/tutorials/index.html)"
   ]
  },
  {
   "cell_type": "markdown",
   "metadata": {},
   "source": [
    "<a id='subplots'></a>\n",
    "### Subplots\n",
    "\n",
    "Each figure object can hold multiple plots. Each of these are called *subplots* and can be created using the `plt.subplot()` function.\n",
    "\n",
    "    plt.subplot({nrows}, {ncols}, {index})\n",
    "    plt.subplot('{nrows}{ncols}{index}')\n",
    "    \n",
    "- `nrows` number of rows of subplots you want in your figure\n",
    "- `ncols` number of columns of subplots you want in your  figure\n",
    "- `index` index of the current subplot you're working on\n",
    "    - increases from left to right, top to bottom starting at 1"
   ]
  },
  {
   "cell_type": "code",
   "execution_count": 20,
   "metadata": {},
   "outputs": [
    {
     "data": {
      "image/png": "[encoded data removed]",
      "text/plain": [
       "<Figure size 648x216 with 3 Axes>"
      ]
     },
     "metadata": {
      "needs_background": "light"
     },
     "output_type": "display_data"
    }
   ],
   "source": [
    "plt.figure(figsize=(9, 3))\n",
    "plt.subplot(1, 3, 1)\n",
    "plt.subplot(1, 3, 2)\n",
    "plt.subplot(1, 3, 3)\n",
    "plt.show();"
   ]
  },
  {
   "cell_type": "code",
   "execution_count": 21,
   "metadata": {},
   "outputs": [
    {
     "data": {
      "image/png": "[encoded data removed]",
      "text/plain": [
       "<Figure size 216x648 with 3 Axes>"
      ]
     },
     "metadata": {
      "needs_background": "light"
     },
     "output_type": "display_data"
    }
   ],
   "source": [
    "names = ['group_a', 'group_b', 'group_c']\n",
    "values = [1, 10, 100]\n",
    "\n",
    "plt.figure(1, figsize=(3, 9))\n",
    "\n",
    "plt.subplot(3,1,1)\n",
    "plt.bar(names, values)\n",
    "\n",
    "plt.subplot(312)\n",
    "plt.scatter(names, values)\n",
    "\n",
    "plt.subplot(313)\n",
    "plt.plot(names, values)\n",
    "\n",
    "plt.suptitle('Categorical Plotting')\n",
    "plt.show();"
   ]
  },
  {
   "cell_type": "markdown",
   "metadata": {},
   "source": [
    "**Practice:** Make a figure with 3 subplots comparing the number of people who survived by gender. Make a bar plot, line plot, and scatter plot. The data has been provided below."
   ]
  },
  {
   "cell_type": "code",
   "execution_count": 22,
   "metadata": {},
   "outputs": [
    {
     "data": {
      "text/plain": [
       "Sex\n",
       "female    314\n",
       "male      577\n",
       "Name: Survived, dtype: int64"
      ]
     },
     "execution_count": 22,
     "metadata": {},
     "output_type": "execute_result"
    }
   ],
   "source": [
    "sex_survival = titanic_train.groupby('Sex')['Survived'].count()\n",
    "sex_survival"
   ]
  },
  {
   "cell_type": "code",
   "execution_count": 23,
   "metadata": {},
   "outputs": [
    {
     "data": {
      "image/png": "[encoded data removed]",
      "text/plain": [
       "<Figure size 216x648 with 3 Axes>"
      ]
     },
     "metadata": {
      "needs_background": "light"
     },
     "output_type": "display_data"
    }
   ],
   "source": [
    "names = sex_survival.index\n",
    "\n",
    "plt.figure(1, figsize=(3, 9))\n",
    "\n",
    "plt.subplot(3,1,1)\n",
    "plt.bar(names, sex_survival)\n",
    "\n",
    "plt.subplot(312)\n",
    "plt.scatter(names, sex_survival)\n",
    "plt.ylim(0, plt.ylim()[1])\n",
    "\n",
    "plt.subplot(313)\n",
    "plt.plot(names, sex_survival)\n",
    "plt.ylim(0, plt.ylim()[1])\n",
    "\n",
    "plt.suptitle('Categorical Plotting')\n",
    "plt.show();"
   ]
  },
  {
   "cell_type": "markdown",
   "metadata": {},
   "source": [
    "<a id='ticks'></a>\n",
    "### Ticks"
   ]
  },
  {
   "cell_type": "markdown",
   "metadata": {},
   "source": [
    "So far, the ticks have been set automatically, but we can also set these ourselves if we want to rename them or set our custom values. For example, in our original plot of passenger ages, Pyplot automatically set the x-ticks to increase by `0.5`. This doesn't really make sense, since the unit `Passenger` doesn't increase in decimal increments. We can modify ticks using `plt.xticks()` and `plt.yticks()`."
   ]
  },
  {
   "cell_type": "code",
   "execution_count": 24,
   "metadata": {},
   "outputs": [
    {
     "data": {
      "image/png": "[encoded data removed]",
      "text/plain": [
       "<Figure size 432x288 with 1 Axes>"
      ]
     },
     "metadata": {
      "needs_background": "light"
     },
     "output_type": "display_data"
    }
   ],
   "source": [
    "plt.plot(titanic_train['Age'][:5])\n",
    "plt.xlabel('Passenger')\n",
    "plt.ylabel('Age')\n",
    "plt.title('Age of 5 Passengers of Titanic')\n",
    "\n",
    "plt.xticks(range(5))\n",
    "plt.show();"
   ]
  },
  {
   "cell_type": "markdown",
   "metadata": {},
   "source": [
    "We can also relabel the ticks by setting the `labels` argument."
   ]
  },
  {
   "cell_type": "code",
   "execution_count": 25,
   "metadata": {
    "scrolled": true
   },
   "outputs": [
    {
     "data": {
      "image/png": "[encoded data removed]",
      "text/plain": [
       "<Figure size 432x288 with 1 Axes>"
      ]
     },
     "metadata": {
      "needs_background": "light"
     },
     "output_type": "display_data"
    }
   ],
   "source": [
    "N_points = 100000\n",
    "n_bins = 20\n",
    "\n",
    "x = np.random.randn(N_points)\n",
    "plt.hist(x, bins = n_bins, color = \"g\")\n",
    "plt.title('Histogram')\n",
    "plt.xlabel('some numbers')\n",
    "plt.ylabel('y')\n",
    "\n",
    "plt.yticks(ticks=5000*np.arange(4), labels=[0, 'a little', 'a lot', 'the most'])\n",
    "plt.show();"
   ]
  },
  {
   "cell_type": "code",
   "execution_count": 26,
   "metadata": {},
   "outputs": [],
   "source": [
    "import matplotlib.pyplot as plt\n",
    "%matplotlib inline\n",
    "import random\n",
    "import numpy as np\n",
    "import pandas as pd\n",
    "from sklearn.model_selection import train_test_split\n",
    "from plotting import overfittingDemo, plot_multiple_linear_regression\n",
    "from scipy.optimize import curve_fit"
   ]
  },
  {
   "cell_type": "markdown",
   "metadata": {},
   "source": [
    "<a id='intro'></a>\n",
    "## Introduction\n",
    "Imagine you've just met an alien who is on a mission to catalog and describe all life on Earth. They've asked you to describe what a \"horse\" is. How would you describe this to them?\n",
    "\n",
    "<a id='what_model'></a>\n",
    "### What Is A Model?\n",
    "A model is a simplification of reality. You want it to be general enough that it can accurately describe more than just a handful of examples of what it's supposed to represent.\n",
    "\n",
    "<table bgcolor=white><tr>\n",
    "    <td><img src='model_reality.png' width=400 /></td>\n",
    "    <td width=100></td>\n",
    "    <td><img src='model_reality_2.png' width=400 /></td>\n",
    "</tr></table>\n",
    "\n",
    "Besides describing classes of things, like *horse*, *orange tabby cat*, or *genders*, models can also describe the relationship between things. Some of these might be familiar to you:\n",
    "<table>\n",
    "    <tr><td>Newton's Second Law</td><td>$F = ma$</td></tr>\n",
    "    <tr><td>Hooke's Law</td><td>$F = -kx$</td></tr>\n",
    "    <tr><td>Position of a falling ball</td><td>$y(t) = \\frac{1}{2}at^2$</td></tr>\n",
    "</table>\n",
    "\n",
    "<a id='why_model'></a>\n",
    "### Why Make A Model?\n",
    "The examples above may give you an idea of what kinds of models you'd want to make. You could make a model to describe something, whether that be a class of objects, like cats, or the relationship between multiple things, like mass, acceleration and force in Newton's Second Law. Once you have a model, you might want to use it to make predictions. As an example, maybe you'd like to be able to make a good guess for someone's weight based on their height – you could make a model that describes the relationship between weight and height and use that model to predict weights.\n",
    "\n",
    "There's one thing you should always keep in mind! Just because you can make a model describing the relationship between two variables, and even if you can use this model to predict the value of one variable based on the value of the other, it doesn't mean that one causes the other. You may have heard this before as the difference between **correlation** and **causation**. A classic example is the relationship between ice cream sales and murder rates. Turns out, when ice cream sales rise, so do murder rates. Does this mean ice cream *causes* people to commit murder? Or get murdered? Nope!\n",
    "\n",
    "Today, we're going to learn how to make a linear model to describe the relationship between variables.\n",
    "\n",
    "<a id='categorical'></a>\n",
    "### Categorical Variables\n",
    "In order to make any model, we first need data. Some types of data are more appropriate for linear models, so let's talk about different types of variables. \n",
    "\n",
    "- **categorical/qualitative**: a variable that has discrete values that represent *categories*\n",
    "    - **ordinal**: a categorical variable whose categories have a clear *ordering*, so the categories have numerical meaning\n",
    "        - e.g. `first class`, `second class`; `elementary school`, `middle school`, `high school`\n",
    "    - **nominal**: a categorial variable whose categories exist by *name* only, with no inherent numerical value or ordering\n",
    "        - e.g. `female`, `male` \n",
    "- **quantitative**: a variable that's measured on a numeric scale\n",
    "    - **continuous**: a quantitative variable that can take on an infinite number of values\n",
    "        - e.g. `weight`, `temperature`\n",
    "    - **discrete**: a quantitative variable that can only take on certain values\n",
    "        - e.g. `birth year`, `number of children`\n",
    "\n",
    "We'll come back to these terms later.\n",
    "\n",
    "<a id='linear_regression'></a>\n",
    "## Linear Regression\n",
    "**Linear regression** is a method of making linear models. Linear models is one kind of model, in which the relationship between the explanatory variables and the response variable can be described by a linear function. For now, you can just think of a linear function as a straight line, which takes us to *simple linear regression*.\n",
    "\n",
    "<a id='simple'></a>\n",
    "### Simple Linear Regression\n",
    "**Simple linear regression** is a special case of linear regression in which you only have one explanatory variable. As the name suggests, it models the relationship as a *line*. You may be familiar with the slope-intercept form of a line, and that's exactly how the linear model looks!\n",
    "\n",
    "$$y = mx+b$$\n",
    "\n",
    "Here, $y$ is the **response** or **dependent** variable we're trying to predict, and $x$ is an **explanatory** or **independent** variable used to predict $y$. In the case of our weight and height example, $y$ would represent weight, while $x$ represents height.\n",
    "\n",
    "Using known $x$'s, we want to accurately predict $y$ using the right $m$ and $b$.\n"
   ]
  },
  {
   "cell_type": "markdown",
   "metadata": {},
   "source": [
    "<a id='loss'></a>\n",
    "### Predicting the Line of Best Fit\n",
    "To find our parameters, m & b, we define a *loss function*. The **loss function** measures how far off our model's estimated values are from the true values, or the *error* of our model.\n",
    "\n",
    "Creating accurate models require minimizing the error or loss when predicting values. Another name for the line that minimizes the error is the **line of best fit**. It's a pretty descriptive name, since it's the line that fits our data the best. The *loss function* helps us define what is *best fit*. \n",
    "\n",
    "<img src='simple_linear.png' width=400>\n"
   ]
  },
  {
   "cell_type": "markdown",
   "metadata": {},
   "source": [
    "<a id='ols'></a>\n",
    "### Minimizing the Error\n",
    "Our goal is to minimize the **residual** or the  difference between the predicted value and the observed value for a given $x$\n",
    "For linear regression, we use the method of **ordinary least squares (OLS)**, which minimizes the sum of squared residuals. \n",
    "\n",
    "$$ \\underbrace{e_{i}}_{error} = \\underbrace{y_i}_{actual} - \\underbrace{\\hat{y_i}}_{predicted} = y_i - mx_i - b$$\n",
    "\n",
    "**Question**: Can you think of why we would want to *square* the residuals and sum them instead of just minimizing their sum?\n"
   ]
  },
  {
   "cell_type": "markdown",
   "metadata": {},
   "source": [
    "Since we want to minimize the **residual sum of squares (RSS)**, what we're actually going to minimize is this:\n",
    "\n",
    "$$\\textit{RSS} = \\sum_{i=0}^n {e_i}^2 = \\sum_{i=0}^n (y_i - mx_i - b)^2$$\n",
    "\n",
    "By minimizing this function, we can solve for slope $m$ and the intercept $b$. The actual calculations for deriving the formulas that define these coefficients requires a bit of calculus, so we'll skip that part for now, but if you want to look into it more on your own you can check out [this link](http://seismo.berkeley.edu/~kirchner/eps_120/Toolkits/Toolkit_10.pdf)! For now, we'll just tell you that $m$ and $b$ can be solved as:\n",
    "\n",
    "$$\\begin{aligned}\n",
    "\\hat{b}&=\\bar {y}-\\hat{m}\\,{\\bar{x}},\\\\\n",
    "\\hat{m}&=\\frac{\\sum _{i=1}^{n}(x_{i}-\\bar{x})(y_{i}-\\bar {y})}{\\sum _{i=1}^{n}(x_{i}-\\bar{x})^2}\\\\\n",
    "\\end{aligned}$$\n",
    "\n",
    "This is pretty complicated! Luckily, you don't need to know any of this to make a linear model, but this is here for reference if you're interested in the math behind what we'll be getting into today. "
   ]
  },
  {
   "cell_type": "markdown",
   "metadata": {},
   "source": [
    "<a id='making_model'></a>\n",
    "### Making the Model\n",
    "In linear regression, the response variable should be continuous. The explanatory variables *can* be discrete and even categorical, and in a future lecture you'll learn how to use categorical variables in your models, but in simple linear regression they need to be continuous. For today we'll just be working with continuous variables! \n",
    "\n",
    "Let's revisit the `titanic` dataset you're familiar with and decide whether it's appropriate for making a simple linear regression model."
   ]
  },
  {
   "cell_type": "code",
   "execution_count": 27,
   "metadata": {},
   "outputs": [
    {
     "data": {
      "image/png": "[encoded data removed]",
      "text/plain": [
       "<Figure size 432x288 with 1 Axes>"
      ]
     },
     "metadata": {
      "needs_background": "light"
     },
     "output_type": "display_data"
    },
    {
     "data": {
      "image/png": "[encoded data removed]",
      "text/plain": [
       "<Figure size 432x288 with 1 Axes>"
      ]
     },
     "metadata": {
      "needs_background": "light"
     },
     "output_type": "display_data"
    },
    {
     "data": {
      "image/png": "[encoded data removed]",
      "text/plain": [
       "<Figure size 432x288 with 1 Axes>"
      ]
     },
     "metadata": {
      "needs_background": "light"
     },
     "output_type": "display_data"
    }
   ],
   "source": [
    "# reading the titanic data from excel sheet\n",
    "titanic_df = pd.read_csv('titanic/train.csv')\n",
    "\n",
    "# plotting ticket class vs. fare\n",
    "titanic_df.plot.scatter(\"Pclass\", \"Fare\")\n",
    "plt.title(\"Titanic: Ticket Class vs. Fare\")\n",
    "plt.xlabel(\"Ticket Class\")\n",
    "plt.ylabel(\"Fare\")\n",
    "\n",
    "# plotting age vs. fare\n",
    "titanic_df.plot.scatter(\"Age\", \"Fare\")\n",
    "plt.title(\"Titanic: Age vs. Fare\")\n",
    "plt.xlabel(\"Age\")\n",
    "plt.ylabel(\"Fare\")\n",
    "\n",
    "# plotting number of siblings vs. fare\n",
    "titanic_df.plot.scatter(\"SibSp\", \"Fare\")\n",
    "plt.title(\"Titanic: # of Siblings/Spouses vs. Fare\")\n",
    "plt.xlabel(\"# of Siblings/Spouses\")\n",
    "plt.ylabel(\"Fare\");"
   ]
  },
  {
   "cell_type": "markdown",
   "metadata": {},
   "source": [
    "**Question:** How would you describe these variables?"
   ]
  },
  {
   "cell_type": "markdown",
   "metadata": {},
   "source": [
    "Run the cell below to find the new dataset we found to work with!"
   ]
  },
  {
   "cell_type": "code",
   "execution_count": 28,
   "metadata": {},
   "outputs": [
    {
     "data": {
      "text/html": [
       "<div>\n",
       "<style scoped>\n",
       "    .dataframe tbody tr th:only-of-type {\n",
       "        vertical-align: middle;\n",
       "    }\n",
       "\n",
       "    .dataframe tbody tr th {\n",
       "        vertical-align: top;\n",
       "    }\n",
       "\n",
       "    .dataframe thead th {\n",
       "        text-align: right;\n",
       "    }\n",
       "</style>\n",
       "<table border=\"1\" class=\"dataframe\">\n",
       "  <thead>\n",
       "    <tr style=\"text-align: right;\">\n",
       "      <th></th>\n",
       "      <th>mpg</th>\n",
       "      <th>cylinders</th>\n",
       "      <th>displacement</th>\n",
       "      <th>horsepower</th>\n",
       "      <th>weight</th>\n",
       "      <th>acceleration</th>\n",
       "      <th>model_year</th>\n",
       "      <th>origin</th>\n",
       "    </tr>\n",
       "    <tr>\n",
       "      <th>name</th>\n",
       "      <th></th>\n",
       "      <th></th>\n",
       "      <th></th>\n",
       "      <th></th>\n",
       "      <th></th>\n",
       "      <th></th>\n",
       "      <th></th>\n",
       "      <th></th>\n",
       "    </tr>\n",
       "  </thead>\n",
       "  <tbody>\n",
       "    <tr>\n",
       "      <th>toyota corolla</th>\n",
       "      <td>34</td>\n",
       "      <td>4</td>\n",
       "      <td>108</td>\n",
       "      <td>70</td>\n",
       "      <td>2245</td>\n",
       "      <td>16</td>\n",
       "      <td>82</td>\n",
       "      <td>3</td>\n",
       "    </tr>\n",
       "    <tr>\n",
       "      <th>buick century</th>\n",
       "      <td>17</td>\n",
       "      <td>6</td>\n",
       "      <td>231</td>\n",
       "      <td>110</td>\n",
       "      <td>3907</td>\n",
       "      <td>21</td>\n",
       "      <td>75</td>\n",
       "      <td>1</td>\n",
       "    </tr>\n",
       "    <tr>\n",
       "      <th>cadillac eldorado</th>\n",
       "      <td>23</td>\n",
       "      <td>8</td>\n",
       "      <td>350</td>\n",
       "      <td>125</td>\n",
       "      <td>3900</td>\n",
       "      <td>17</td>\n",
       "      <td>79</td>\n",
       "      <td>1</td>\n",
       "    </tr>\n",
       "    <tr>\n",
       "      <th>bmw 320i</th>\n",
       "      <td>21</td>\n",
       "      <td>4</td>\n",
       "      <td>121</td>\n",
       "      <td>110</td>\n",
       "      <td>2600</td>\n",
       "      <td>12</td>\n",
       "      <td>77</td>\n",
       "      <td>2</td>\n",
       "    </tr>\n",
       "    <tr>\n",
       "      <th>ford fairmont futura</th>\n",
       "      <td>24</td>\n",
       "      <td>4</td>\n",
       "      <td>140</td>\n",
       "      <td>92</td>\n",
       "      <td>2865</td>\n",
       "      <td>16</td>\n",
       "      <td>82</td>\n",
       "      <td>1</td>\n",
       "    </tr>\n",
       "  </tbody>\n",
       "</table>\n",
       "</div>"
      ],
      "text/plain": [
       "                      mpg  cylinders  displacement  horsepower  weight  \\\n",
       "name                                                                     \n",
       "toyota corolla         34          4           108          70    2245   \n",
       "buick century          17          6           231         110    3907   \n",
       "cadillac eldorado      23          8           350         125    3900   \n",
       "bmw 320i               21          4           121         110    2600   \n",
       "ford fairmont futura   24          4           140          92    2865   \n",
       "\n",
       "                      acceleration  model_year  origin  \n",
       "name                                                    \n",
       "toyota corolla                  16          82       3  \n",
       "buick century                   21          75       1  \n",
       "cadillac eldorado               17          79       1  \n",
       "bmw 320i                        12          77       2  \n",
       "ford fairmont futura            16          82       1  "
      ]
     },
     "execution_count": 28,
     "metadata": {},
     "output_type": "execute_result"
    }
   ],
   "source": [
    "mpg = pd.read_csv(\"./mpg.csv\", index_col=\"name\") # load mpg dataset\n",
    "mpg = mpg.loc[mpg[\"horsepower\"] != '?'].astype(int) # remove columns with missing horsepower values\n",
    "mpg_train, mpg_test = train_test_split(mpg, test_size = .2, random_state = 0) # split into training set and test set\n",
    "mpg_train, mpg_validation = train_test_split(mpg_train, test_size = .5, random_state = 0)\n",
    "mpg_train.head()"
   ]
  },
  {
   "cell_type": "markdown",
   "metadata": {},
   "source": [
    "Here we've chosen the `mpg` dataset, which tells us various attributes of different cars, including a car's make and model, miles per gallon, number of cylinders, weight, and more! We're going to be trying to see which features affect a car's `mpg`, and our goal is to create a model that accurately predicts `mpg` given other attributes of the car. \n",
    "\n",
    "You'll notice that we separated the `mpg` data into two separate dataframes, `mpg_train` and `mpg_test`. We'll get into why in another lecture, but for now, make sure to do all of your analysis and model creation on the `mpg_train` dataset! \n",
    "\n",
    "\n",
    "*Hint:* Hitting `shift-tab` with the cursor on the name of a function will bring up helpful documentation about how to use the function"
   ]
  },
  {
   "cell_type": "markdown",
   "metadata": {},
   "source": [
    "Since we are looking at the dat a for cars, what could be a useful variable to predict?\n",
    "Furthermore, to predict this variable, what explanatory or response variable should we use?"
   ]
  },
  {
   "cell_type": "code",
   "execution_count": 29,
   "metadata": {},
   "outputs": [],
   "source": [
    "x1 = \"displacement\"\n",
    "y1 = \"mpg\""
   ]
  },
  {
   "cell_type": "code",
   "execution_count": 30,
   "metadata": {},
   "outputs": [
    {
     "data": {
      "text/plain": [
       "<matplotlib.axes._subplots.AxesSubplot at 0x1a1bab5cf8>"
      ]
     },
     "execution_count": 30,
     "metadata": {},
     "output_type": "execute_result"
    },
    {
     "data": {
      "image/png": "[encoded data removed]",
      "text/plain": [
       "<Figure size 432x288 with 1 Axes>"
      ]
     },
     "metadata": {
      "needs_background": "light"
     },
     "output_type": "display_data"
    }
   ],
   "source": [
    "mpg_train.plot.scatter(x1,y1)"
   ]
  },
  {
   "cell_type": "markdown",
   "metadata": {},
   "source": [
    "`sklearn`'s `linear_model` module makes it really easy to make linear models! There's a lot of different types of linear models implemented in the `linear_model` module, which you can take a look at [here](http://scikit-learn.org/stable/modules/classes.html#module-sklearn.linear_model) if you're interested, but for today we'll be using `LinearRegression`, which we've imported for you in the cell below. Try reading the documentation to figure out what the `fit()` function expects as input to correctly fit our model to the `mpg_train` data!"
   ]
  },
  {
   "cell_type": "code",
   "execution_count": 31,
   "metadata": {},
   "outputs": [],
   "source": [
    "from sklearn.linear_model import LinearRegression"
   ]
  },
  {
   "cell_type": "code",
   "execution_count": 32,
   "metadata": {},
   "outputs": [
    {
     "ename": "NameError",
     "evalue": "name 'Y' is not defined",
     "output_type": "error",
     "traceback": [
      "\u001b[0;31m---------------------------------------------------------------------------\u001b[0m",
      "\u001b[0;31mNameError\u001b[0m                                 Traceback (most recent call last)",
      "\u001b[0;32m<ipython-input-32-de29cf719ad1>\u001b[0m in \u001b[0;36m<module>\u001b[0;34m\u001b[0m\n\u001b[0;32m----> 1\u001b[0;31m \u001b[0mY\u001b[0m\u001b[0;34m.\u001b[0m\u001b[0mshape\u001b[0m\u001b[0;34m\u001b[0m\u001b[0;34m\u001b[0m\u001b[0m\n\u001b[0m",
      "\u001b[0;31mNameError\u001b[0m: name 'Y' is not defined"
     ]
    }
   ],
   "source": [
    "Y.shape"
   ]
  },
  {
   "cell_type": "code",
   "execution_count": 33,
   "metadata": {},
   "outputs": [
    {
     "data": {
      "text/plain": [
       "LinearRegression(copy_X=True, fit_intercept=True, n_jobs=None,\n",
       "         normalize=False)"
      ]
     },
     "execution_count": 33,
     "metadata": {},
     "output_type": "execute_result"
    }
   ],
   "source": [
    "# Initialize our linear regression model\n",
    "linear_model = LinearRegression()\n",
    "\n",
    "X = mpg_train[[\"displacement\"]]\n",
    "Y = mpg_train[[\"mpg\"]]\n",
    "\n",
    "# Fit the model to the data\n",
    "linear_model.fit(X, Y)"
   ]
  },
  {
   "cell_type": "markdown",
   "metadata": {},
   "source": [
    "Once you've got it working you'll notice that it seems like nothing happened. However, behind the scenes, our `linear_model` variable has now been fit to the data we passed into the `fit()` function! We can see what the `slope` and `intercept` are by looking into the `coef_` and `intercept_` attributes of our `linear_model`."
   ]
  },
  {
   "cell_type": "code",
   "execution_count": 34,
   "metadata": {},
   "outputs": [
    {
     "data": {
      "text/plain": [
       "(array([[-0.06129822]]), array([35.20358341]))"
      ]
     },
     "execution_count": 34,
     "metadata": {},
     "output_type": "execute_result"
    }
   ],
   "source": [
    "linear_model.coef_, linear_model.intercept_"
   ]
  },
  {
   "cell_type": "markdown",
   "metadata": {},
   "source": [
    "You might notice that, while the `intercept_` is a single scalar value, `coef_` returns an array. This is because you can choose to fit your model to multiple explanatory variables (hence the list form of `feature_cols`). When you define multiple explanatory variables, the `coef_` will contain a separate coefficient for each explanatory variable you chose! You'll be able to explore that in a bit, but for now let's take a look at what our linear model looks like relative to our original data.\n",
    "\n",
    "We've provided the skeleton for a helper function called `overlay_simple_linear_model`. Try to fill out the function so that it plots a scatterplot with the linear model overlaid on top.\n",
    "\n",
    "*Hint:* If you press `tab` after a `[object].` or `[package].`, Jupyter will show you a list of valid functions defined for that object type or package."
   ]
  },
  {
   "cell_type": "code",
   "execution_count": 35,
   "metadata": {},
   "outputs": [],
   "source": [
    "def overlay_simple_linear_model(data, x_name, y_name, linear_model):\n",
    "    \"\"\"\n",
    "    This function plots a simple linear model on top of the scatterplot of the data it was fit to.\n",
    "    \n",
    "    data(DataFrame): e.g. mpg_train\n",
    "    x_name(string): the name of the column representing the predictor variable\n",
    "    y_name(string): the name of the column representing the dependent/response variable\n",
    "    linear_model\n",
    "    \n",
    "    returns None but outputs linear model overlaid on scatterplot\n",
    "    \"\"\"\n",
    "    \n",
    "    x = np.arange(max(data[x_name])).reshape(-1, 1) # a 2D array of integers between 0 and the maximum value of the x_name column\n",
    "    y = linear_model.predict(x) # replace ___ with correct function \n",
    "    \n",
    "    \n",
    "    data.plot.scatter(x_name, y_name) # scatter plot of x_name vs. y_name\n",
    "    \n",
    "    plt.plot(x, y, color='red')\n",
    "    plt.title(\"Linear Model vs. Data: \" + x_name + \" vs. \" + y_name)\n",
    "    plt.show()"
   ]
  },
  {
   "cell_type": "code",
   "execution_count": 36,
   "metadata": {},
   "outputs": [
    {
     "data": {
      "image/png": "[encoded data removed]",
      "text/plain": [
       "<Figure size 432x288 with 1 Axes>"
      ]
     },
     "metadata": {
      "needs_background": "light"
     },
     "output_type": "display_data"
    }
   ],
   "source": [
    "# If you wrote the function above correctly, the output should look like this\n",
    "overlay_simple_linear_model(mpg_train, \"displacement\", \"mpg\", linear_model)"
   ]
  },
  {
   "cell_type": "markdown",
   "metadata": {},
   "source": [
    "<a id='interpreting_model'></a>\n",
    "### Interpreting the Model\n",
    "\n",
    "You're probably thinking \"COOL! This looks like a pretty good representation of the data! But what do these coefficients even mean?\" That is a great question! As you might have guessed, the `intercept` term is where our line intersects with the y-axis, or when our predictor variable has a value of 0. In relation to our model, it's our prediction for `mpg` given a predictor variable value of 0. The `slope` term is a little more complicated. Yes, it is the slope of the line, but how do we interpret it in the relationship between `mpg` and our explanator?"
   ]
  },
  {
   "cell_type": "markdown",
   "metadata": {},
   "source": [
    "<a id='assessment'></a>\n",
    "### Assessing the Model\n",
    "<a id='r_squared'></a>\n",
    "#### Coefficient of Determination ($R^2$)\n",
    "Another question you might have is, how do we know how good our model is? One way of measuring how well your model fits the data is the $R^2$ coefficient, or the **coefficient of determination**. Basically, what the $R^2$ represents is how much can our data vary but still be predicted accurately by the explanatory variable. If you want to look into the mathematical definition of $R^2$, you can check out the [Wikipedia page](https://en.wikipedia.org/wiki/Coefficient_of_determination)."
   ]
  },
  {
   "cell_type": "markdown",
   "metadata": {},
   "source": [
    "We can obtain our model's $R^2$ value by using our `linear_model`'s `score()` function, like so:"
   ]
  },
  {
   "cell_type": "code",
   "execution_count": 37,
   "metadata": {},
   "outputs": [
    {
     "data": {
      "text/plain": [
       "0.6600146627660186"
      ]
     },
     "execution_count": 37,
     "metadata": {},
     "output_type": "execute_result"
    }
   ],
   "source": [
    "linear_model.score(X, Y) # you'll only need to use variables that we've already defined"
   ]
  },
  {
   "cell_type": "markdown",
   "metadata": {},
   "source": [
    "Woohoo! If you used `displacement`, our model accurately predicts 66% of the variation in `mpg`. Is this good? Since $R^2$ is a proportion, it's value is always between $0$ and $1$. \n",
    "\n",
    "**Question:** What does it mean for $R^2$ to have a value of 1? What about 0?\n",
    "\n",
    "An $R^2$ value of $1$ means that our model perfectly fits our data! So, the closer our $R^2$ value is to $1$, the better it fits our data.\n",
    "\n",
    "An $R^2$ value of $0$ would mean that none of the variation of $y$ is explained by $x$. The explantory variable we chose then is useless. It does not explain anything about the data\n",
    "\n",
    "In the cell below, try making different simple linear models using different functions and seeing their corresponding $R^2$. Make sure to stick with one explanatory variable for now!\n",
    "\n",
    "**Exercise:** Can you think of a possible feature you could use to make our model have an $R^2$ value of $1$?"
   ]
  },
  {
   "cell_type": "code",
   "execution_count": 38,
   "metadata": {},
   "outputs": [
    {
     "data": {
      "text/plain": [
       "1.0"
      ]
     },
     "execution_count": 38,
     "metadata": {},
     "output_type": "execute_result"
    }
   ],
   "source": [
    "linear_model2 = LinearRegression()\n",
    "\n",
    "X2 = mpg_train[[\"mpg\"]]\n",
    "\n",
    "linear_model2.fit(X2, Y)\n",
    "\n",
    "linear_model2.score(X2, Y)"
   ]
  },
  {
   "cell_type": "markdown",
   "metadata": {},
   "source": [
    "<a id='residual_plots'></a>\n",
    "#### Residual Plots\n",
    "Another way of analyzing your model is through *residual plots*. A **residual plot** is kind of what you'd think – it plots your residuals against the corresponding $x$ values. If you see interesting patterns in your residual plot, it's indicative of some *bias* in your model – your error isn't due to randomness in the data but because of an underlying problem in the way you've defined the relationship between your variables. \n",
    "\n",
    "Fill in the blanks in the `plot_simple_residuals()` function, so we can take a look at the residual plot."
   ]
  },
  {
   "cell_type": "code",
   "execution_count": 39,
   "metadata": {},
   "outputs": [],
   "source": [
    "def plot_simple_residuals(data, x_name, y_name, linear_model):\n",
    "    \"\"\"\n",
    "    This function plots a residual plot based off of a simple linear model \n",
    "    on top of the scatterplot of the data it was fit to.\n",
    "    \n",
    "    data(DataFrame): e.g. mpg_train\n",
    "    x_name(string): the name of the column representing the predictor variable\n",
    "    y_name(string): the name of the column representing the dependent/response variable\n",
    "    linear_model\n",
    "    \n",
    "    returns None but outputs residual plot resulting from linear model overlaid on scatterplot\n",
    "    \"\"\"\n",
    "    X = data[[x_name]].values\n",
    "    Y = data[[y_name]].values\n",
    "    residuals = Y - linear_model.predict(X)\n",
    "    \n",
    "#     axes = plt.gca()\n",
    "    plt.scatter(X, residuals)\n",
    "    plt.axhline(y=0, color='r', linestyle='-')\n",
    "    plt.title(\"Residual Plot: \" + x_name + \" vs. \" + y_name)\n",
    "    plt.xlabel(x_name)\n",
    "    plt.ylabel(\"Residuals\")\n",
    "    plt.show()"
   ]
  },
  {
   "cell_type": "code",
   "execution_count": 40,
   "metadata": {},
   "outputs": [
    {
     "data": {
      "image/png": "[encoded data removed]",
      "text/plain": [
       "<Figure size 432x288 with 1 Axes>"
      ]
     },
     "metadata": {
      "needs_background": "light"
     },
     "output_type": "display_data"
    }
   ],
   "source": [
    "plot_simple_residuals(mpg_train, 'displacement', 'mpg', linear_model)"
   ]
  },
  {
   "cell_type": "markdown",
   "metadata": {},
   "source": [
    "As you can see, the residuals aren't scattered randomly around the y-axis. The points are more spread out vertically for smaller values of `displacement` and less scattered vertically for larger values. Furthermore, in the middle the residuals are mostly above the line, while on the left and right side, the residuals tend to be below the line. Such a pattern as this one suggests that our model isn't that great at describing the relationship between `displacement` and `mpg`, and there's some fundamental issue with the assumption that the relationship can be modeled by a simple linear relationship. [Here](http://docs.statwing.com/interpreting-residual-plots-to-improve-your-regression/)'s some more information about how to interpret different patterns in residual plots and how you can change your model to fix these errors."
   ]
  },
  {
   "cell_type": "markdown",
   "metadata": {},
   "source": [
    "<a id='when_to_use'></a>\n",
    "### When Can I Use a Linear Model?\n",
    "Let's talk about some of the assumptions of linear regression, so you know when it's appropriate to use one. \n",
    "- There's a linear relationship between the response variable and the explanatory variables.\n",
    "- There's no pattern in the residual plot."
   ]
  },
  {
   "cell_type": "markdown",
   "metadata": {},
   "source": [
    "Now that you're a master of simple linear regression, you're probably thinking \"WHY CAN'T I USE MORE EXPLANATORY VARIABLES? What if I think `mpg` could be better predicted if I knew *two* of the variables? Wouldn't that make my model better?\" Why, Ms/Mr. Genius Statistician, you *can* use more explanatory variables! That leads us to *multiple linear regression*."
   ]
  },
  {
   "cell_type": "markdown",
   "metadata": {},
   "source": [
    "<a id='multiple'></a>\n",
    "## Multiple Linear Regression\n",
    "**Multiple linear regression** is an extension to the simple linear regression model with multiple explanatory variables instead of just one.\n",
    "\n",
    "With two explanatory variables, we can still visualize the model in a three-dimensional graph, but as we add more and more variables it's pretty much impossible to plot it (can you imagine what a 5D graph would look like?). \n",
    "\n",
    "Below is a code chunk that plots the scatterplots of `weight` and `displacement` against `mpg`, as well as the corresponding linear model. It's interactive, so you can drag it around to get a better look at how the model fits the data!\n",
    "\n",
    "You'll notice that the model is no longer a line – it's a plane. This is the 3D analog to a line. Just as a line defines one value for $y$ for any given $x$, a plane defines one value for $z$ for any pair of $(x, y)$."
   ]
  },
  {
   "cell_type": "code",
   "execution_count": 41,
   "metadata": {
    "scrolled": true
   },
   "outputs": [
    {
     "data": {
      "application/javascript": [
       "/* Put everything inside the global mpl namespace */\n",
       "window.mpl = {};\n",
       "\n",
       "\n",
       "mpl.get_websocket_type = function() {\n",
       "    if (typeof(WebSocket) !== 'undefined') {\n",
       "        return WebSocket;\n",
       "    } else if (typeof(MozWebSocket) !== 'undefined') {\n",
       "        return MozWebSocket;\n",
       "    } else {\n",
       "        alert('Your browser does not have WebSocket support.' +\n",
       "              'Please try Chrome, Safari or Firefox ≥ 6. ' +\n",
       "              'Firefox 4 and 5 are also supported but you ' +\n",
       "              'have to enable WebSockets in about:config.');\n",
       "    };\n",
       "}\n",
       "\n",
       "mpl.figure = function(figure_id, websocket, ondownload, parent_element) {\n",
       "    this.id = figure_id;\n",
       "\n",
       "    this.ws = websocket;\n",
       "\n",
       "    this.supports_binary = (this.ws.binaryType != undefined);\n",
       "\n",
       "    if (!this.supports_binary) {\n",
       "        var warnings = document.getElementById(\"mpl-warnings\");\n",
       "        if (warnings) {\n",
       "            warnings.style.display = 'block';\n",
       "            warnings.textContent = (\n",
       "                \"This browser does not support binary websocket messages. \" +\n",
       "                    \"Performance may be slow.\");\n",
       "        }\n",
       "    }\n",
       "\n",
       "    this.imageObj = new Image();\n",
       "\n",
       "    this.context = undefined;\n",
       "    this.message = undefined;\n",
       "    this.canvas = undefined;\n",
       "    this.rubberband_canvas = undefined;\n",
       "    this.rubberband_context = undefined;\n",
       "    this.format_dropdown = undefined;\n",
       "\n",
       "    this.image_mode = 'full';\n",
       "\n",
       "    this.root = $('<div/>');\n",
       "    this._root_extra_style(this.root)\n",
       "    this.root.attr('style', 'display: inline-block');\n",
       "\n",
       "    $(parent_element).append(this.root);\n",
       "\n",
       "    this._init_header(this);\n",
       "    this._init_canvas(this);\n",
       "    this._init_toolbar(this);\n",
       "\n",
       "    var fig = this;\n",
       "\n",
       "    this.waiting = false;\n",
       "\n",
       "    this.ws.onopen =  function () {\n",
       "            fig.send_message(\"supports_binary\", {value: fig.supports_binary});\n",
       "            fig.send_message(\"send_image_mode\", {});\n",
       "            if (mpl.ratio != 1) {\n",
       "                fig.send_message(\"set_dpi_ratio\", {'dpi_ratio': mpl.ratio});\n",
       "            }\n",
       "            fig.send_message(\"refresh\", {});\n",
       "        }\n",
       "\n",
       "    this.imageObj.onload = function() {\n",
       "            if (fig.image_mode == 'full') {\n",
       "                // Full images could contain transparency (where diff images\n",
       "                // almost always do), so we need to clear the canvas so that\n",
       "                // there is no ghosting.\n",
       "                fig.context.clearRect(0, 0, fig.canvas.width, fig.canvas.height);\n",
       "            }\n",
       "            fig.context.drawImage(fig.imageObj, 0, 0);\n",
       "        };\n",
       "\n",
       "    this.imageObj.onunload = function() {\n",
       "        fig.ws.close();\n",
       "    }\n",
       "\n",
       "    this.ws.onmessage = this._make_on_message_function(this);\n",
       "\n",
       "    this.ondownload = ondownload;\n",
       "}\n",
       "\n",
       "mpl.figure.prototype._init_header = function() {\n",
       "    var titlebar = $(\n",
       "        '<div class=\"ui-dialog-titlebar ui-widget-header ui-corner-all ' +\n",
       "        'ui-helper-clearfix\"/>');\n",
       "    var titletext = $(\n",
       "        '<div class=\"ui-dialog-title\" style=\"width: 100%; ' +\n",
       "        'text-align: center; padding: 3px;\"/>');\n",
       "    titlebar.append(titletext)\n",
       "    this.root.append(titlebar);\n",
       "    this.header = titletext[0];\n",
       "}\n",
       "\n",
       "\n",
       "\n",
       "mpl.figure.prototype._canvas_extra_style = function(canvas_div) {\n",
       "\n",
       "}\n",
       "\n",
       "\n",
       "mpl.figure.prototype._root_extra_style = function(canvas_div) {\n",
       "\n",
       "}\n",
       "\n",
       "mpl.figure.prototype._init_canvas = function() {\n",
       "    var fig = this;\n",
       "\n",
       "    var canvas_div = $('<div/>');\n",
       "\n",
       "    canvas_div.attr('style', 'position: relative; clear: both; outline: 0');\n",
       "\n",
       "    function canvas_keyboard_event(event) {\n",
       "        return fig.key_event(event, event['data']);\n",
       "    }\n",
       "\n",
       "    canvas_div.keydown('key_press', canvas_keyboard_event);\n",
       "    canvas_div.keyup('key_release', canvas_keyboard_event);\n",
       "    this.canvas_div = canvas_div\n",
       "    this._canvas_extra_style(canvas_div)\n",
       "    this.root.append(canvas_div);\n",
       "\n",
       "    var canvas = $('<canvas/>');\n",
       "    canvas.addClass('mpl-canvas');\n",
       "    canvas.attr('style', \"left: 0; top: 0; z-index: 0; outline: 0\")\n",
       "\n",
       "    this.canvas = canvas[0];\n",
       "    this.context = canvas[0].getContext(\"2d\");\n",
       "\n",
       "    var backingStore = this.context.backingStorePixelRatio ||\n",
       "\tthis.context.webkitBackingStorePixelRatio ||\n",
       "\tthis.context.mozBackingStorePixelRatio ||\n",
       "\tthis.context.msBackingStorePixelRatio ||\n",
       "\tthis.context.oBackingStorePixelRatio ||\n",
       "\tthis.context.backingStorePixelRatio || 1;\n",
       "\n",
       "    mpl.ratio = (window.devicePixelRatio || 1) / backingStore;\n",
       "\n",
       "    var rubberband = $('<canvas/>');\n",
       "    rubberband.attr('style', \"position: absolute; left: 0; top: 0; z-index: 1;\")\n",
       "\n",
       "    var pass_mouse_events = true;\n",
       "\n",
       "    canvas_div.resizable({\n",
       "        start: function(event, ui) {\n",
       "            pass_mouse_events = false;\n",
       "        },\n",
       "        resize: function(event, ui) {\n",
       "            fig.request_resize(ui.size.width, ui.size.height);\n",
       "        },\n",
       "        stop: function(event, ui) {\n",
       "            pass_mouse_events = true;\n",
       "            fig.request_resize(ui.size.width, ui.size.height);\n",
       "        },\n",
       "    });\n",
       "\n",
       "    function mouse_event_fn(event) {\n",
       "        if (pass_mouse_events)\n",
       "            return fig.mouse_event(event, event['data']);\n",
       "    }\n",
       "\n",
       "    rubberband.mousedown('button_press', mouse_event_fn);\n",
       "    rubberband.mouseup('button_release', mouse_event_fn);\n",
       "    // Throttle sequential mouse events to 1 every 20ms.\n",
       "    rubberband.mousemove('motion_notify', mouse_event_fn);\n",
       "\n",
       "    rubberband.mouseenter('figure_enter', mouse_event_fn);\n",
       "    rubberband.mouseleave('figure_leave', mouse_event_fn);\n",
       "\n",
       "    canvas_div.on(\"wheel\", function (event) {\n",
       "        event = event.originalEvent;\n",
       "        event['data'] = 'scroll'\n",
       "        if (event.deltaY < 0) {\n",
       "            event.step = 1;\n",
       "        } else {\n",
       "            event.step = -1;\n",
       "        }\n",
       "        mouse_event_fn(event);\n",
       "    });\n",
       "\n",
       "    canvas_div.append(canvas);\n",
       "    canvas_div.append(rubberband);\n",
       "\n",
       "    this.rubberband = rubberband;\n",
       "    this.rubberband_canvas = rubberband[0];\n",
       "    this.rubberband_context = rubberband[0].getContext(\"2d\");\n",
       "    this.rubberband_context.strokeStyle = \"#000000\";\n",
       "\n",
       "    this._resize_canvas = function(width, height) {\n",
       "        // Keep the size of the canvas, canvas container, and rubber band\n",
       "        // canvas in synch.\n",
       "        canvas_div.css('width', width)\n",
       "        canvas_div.css('height', height)\n",
       "\n",
       "        canvas.attr('width', width * mpl.ratio);\n",
       "        canvas.attr('height', height * mpl.ratio);\n",
       "        canvas.attr('style', 'width: ' + width + 'px; height: ' + height + 'px;');\n",
       "\n",
       "        rubberband.attr('width', width);\n",
       "        rubberband.attr('height', height);\n",
       "    }\n",
       "\n",
       "    // Set the figure to an initial 600x600px, this will subsequently be updated\n",
       "    // upon first draw.\n",
       "    this._resize_canvas(600, 600);\n",
       "\n",
       "    // Disable right mouse context menu.\n",
       "    $(this.rubberband_canvas).bind(\"contextmenu\",function(e){\n",
       "        return false;\n",
       "    });\n",
       "\n",
       "    function set_focus () {\n",
       "        canvas.focus();\n",
       "        canvas_div.focus();\n",
       "    }\n",
       "\n",
       "    window.setTimeout(set_focus, 100);\n",
       "}\n",
       "\n",
       "mpl.figure.prototype._init_toolbar = function() {\n",
       "    var fig = this;\n",
       "\n",
       "    var nav_element = $('<div/>')\n",
       "    nav_element.attr('style', 'width: 100%');\n",
       "    this.root.append(nav_element);\n",
       "\n",
       "    // Define a callback function for later on.\n",
       "    function toolbar_event(event) {\n",
       "        return fig.toolbar_button_onclick(event['data']);\n",
       "    }\n",
       "    function toolbar_mouse_event(event) {\n",
       "        return fig.toolbar_button_onmouseover(event['data']);\n",
       "    }\n",
       "\n",
       "    for(var toolbar_ind in mpl.toolbar_items) {\n",
       "        var name = mpl.toolbar_items[toolbar_ind][0];\n",
       "        var tooltip = mpl.toolbar_items[toolbar_ind][1];\n",
       "        var image = mpl.toolbar_items[toolbar_ind][2];\n",
       "        var method_name = mpl.toolbar_items[toolbar_ind][3];\n",
       "\n",
       "        if (!name) {\n",
       "            // put a spacer in here.\n",
       "            continue;\n",
       "        }\n",
       "        var button = $('<button/>');\n",
       "        button.addClass('ui-button ui-widget ui-state-default ui-corner-all ' +\n",
       "                        'ui-button-icon-only');\n",
       "        button.attr('role', 'button');\n",
       "        button.attr('aria-disabled', 'false');\n",
       "        button.click(method_name, toolbar_event);\n",
       "        button.mouseover(tooltip, toolbar_mouse_event);\n",
       "\n",
       "        var icon_img = $('<span/>');\n",
       "        icon_img.addClass('ui-button-icon-primary ui-icon');\n",
       "        icon_img.addClass(image);\n",
       "        icon_img.addClass('ui-corner-all');\n",
       "\n",
       "        var tooltip_span = $('<span/>');\n",
       "        tooltip_span.addClass('ui-button-text');\n",
       "        tooltip_span.html(tooltip);\n",
       "\n",
       "        button.append(icon_img);\n",
       "        button.append(tooltip_span);\n",
       "\n",
       "        nav_element.append(button);\n",
       "    }\n",
       "\n",
       "    var fmt_picker_span = $('<span/>');\n",
       "\n",
       "    var fmt_picker = $('<select/>');\n",
       "    fmt_picker.addClass('mpl-toolbar-option ui-widget ui-widget-content');\n",
       "    fmt_picker_span.append(fmt_picker);\n",
       "    nav_element.append(fmt_picker_span);\n",
       "    this.format_dropdown = fmt_picker[0];\n",
       "\n",
       "    for (var ind in mpl.extensions) {\n",
       "        var fmt = mpl.extensions[ind];\n",
       "        var option = $(\n",
       "            '<option/>', {selected: fmt === mpl.default_extension}).html(fmt);\n",
       "        fmt_picker.append(option)\n",
       "    }\n",
       "\n",
       "    // Add hover states to the ui-buttons\n",
       "    $( \".ui-button\" ).hover(\n",
       "        function() { $(this).addClass(\"ui-state-hover\");},\n",
       "        function() { $(this).removeClass(\"ui-state-hover\");}\n",
       "    );\n",
       "\n",
       "    var status_bar = $('<span class=\"mpl-message\"/>');\n",
       "    nav_element.append(status_bar);\n",
       "    this.message = status_bar[0];\n",
       "}\n",
       "\n",
       "mpl.figure.prototype.request_resize = function(x_pixels, y_pixels) {\n",
       "    // Request matplotlib to resize the figure. Matplotlib will then trigger a resize in the client,\n",
       "    // which will in turn request a refresh of the image.\n",
       "    this.send_message('resize', {'width': x_pixels, 'height': y_pixels});\n",
       "}\n",
       "\n",
       "mpl.figure.prototype.send_message = function(type, properties) {\n",
       "    properties['type'] = type;\n",
       "    properties['figure_id'] = this.id;\n",
       "    this.ws.send(JSON.stringify(properties));\n",
       "}\n",
       "\n",
       "mpl.figure.prototype.send_draw_message = function() {\n",
       "    if (!this.waiting) {\n",
       "        this.waiting = true;\n",
       "        this.ws.send(JSON.stringify({type: \"draw\", figure_id: this.id}));\n",
       "    }\n",
       "}\n",
       "\n",
       "\n",
       "mpl.figure.prototype.handle_save = function(fig, msg) {\n",
       "    var format_dropdown = fig.format_dropdown;\n",
       "    var format = format_dropdown.options[format_dropdown.selectedIndex].value;\n",
       "    fig.ondownload(fig, format);\n",
       "}\n",
       "\n",
       "\n",
       "mpl.figure.prototype.handle_resize = function(fig, msg) {\n",
       "    var size = msg['size'];\n",
       "    if (size[0] != fig.canvas.width || size[1] != fig.canvas.height) {\n",
       "        fig._resize_canvas(size[0], size[1]);\n",
       "        fig.send_message(\"refresh\", {});\n",
       "    };\n",
       "}\n",
       "\n",
       "mpl.figure.prototype.handle_rubberband = function(fig, msg) {\n",
       "    var x0 = msg['x0'] / mpl.ratio;\n",
       "    var y0 = (fig.canvas.height - msg['y0']) / mpl.ratio;\n",
       "    var x1 = msg['x1'] / mpl.ratio;\n",
       "    var y1 = (fig.canvas.height - msg['y1']) / mpl.ratio;\n",
       "    x0 = Math.floor(x0) + 0.5;\n",
       "    y0 = Math.floor(y0) + 0.5;\n",
       "    x1 = Math.floor(x1) + 0.5;\n",
       "    y1 = Math.floor(y1) + 0.5;\n",
       "    var min_x = Math.min(x0, x1);\n",
       "    var min_y = Math.min(y0, y1);\n",
       "    var width = Math.abs(x1 - x0);\n",
       "    var height = Math.abs(y1 - y0);\n",
       "\n",
       "    fig.rubberband_context.clearRect(\n",
       "        0, 0, fig.canvas.width, fig.canvas.height);\n",
       "\n",
       "    fig.rubberband_context.strokeRect(min_x, min_y, width, height);\n",
       "}\n",
       "\n",
       "mpl.figure.prototype.handle_figure_label = function(fig, msg) {\n",
       "    // Updates the figure title.\n",
       "    fig.header.textContent = msg['label'];\n",
       "}\n",
       "\n",
       "mpl.figure.prototype.handle_cursor = function(fig, msg) {\n",
       "    var cursor = msg['cursor'];\n",
       "    switch(cursor)\n",
       "    {\n",
       "    case 0:\n",
       "        cursor = 'pointer';\n",
       "        break;\n",
       "    case 1:\n",
       "        cursor = 'default';\n",
       "        break;\n",
       "    case 2:\n",
       "        cursor = 'crosshair';\n",
       "        break;\n",
       "    case 3:\n",
       "        cursor = 'move';\n",
       "        break;\n",
       "    }\n",
       "    fig.rubberband_canvas.style.cursor = cursor;\n",
       "}\n",
       "\n",
       "mpl.figure.prototype.handle_message = function(fig, msg) {\n",
       "    fig.message.textContent = msg['message'];\n",
       "}\n",
       "\n",
       "mpl.figure.prototype.handle_draw = function(fig, msg) {\n",
       "    // Request the server to send over a new figure.\n",
       "    fig.send_draw_message();\n",
       "}\n",
       "\n",
       "mpl.figure.prototype.handle_image_mode = function(fig, msg) {\n",
       "    fig.image_mode = msg['mode'];\n",
       "}\n",
       "\n",
       "mpl.figure.prototype.updated_canvas_event = function() {\n",
       "    // Called whenever the canvas gets updated.\n",
       "    this.send_message(\"ack\", {});\n",
       "}\n",
       "\n",
       "// A function to construct a web socket function for onmessage handling.\n",
       "// Called in the figure constructor.\n",
       "mpl.figure.prototype._make_on_message_function = function(fig) {\n",
       "    return function socket_on_message(evt) {\n",
       "        if (evt.data instanceof Blob) {\n",
       "            /* FIXME: We get \"Resource interpreted as Image but\n",
       "             * transferred with MIME type text/plain:\" errors on\n",
       "             * Chrome.  But how to set the MIME type?  It doesn't seem\n",
       "             * to be part of the websocket stream */\n",
       "            evt.data.type = \"image/png\";\n",
       "\n",
       "            /* Free the memory for the previous frames */\n",
       "            if (fig.imageObj.src) {\n",
       "                (window.URL || window.webkitURL).revokeObjectURL(\n",
       "                    fig.imageObj.src);\n",
       "            }\n",
       "\n",
       "            fig.imageObj.src = (window.URL || window.webkitURL).createObjectURL(\n",
       "                evt.data);\n",
       "            fig.updated_canvas_event();\n",
       "            fig.waiting = false;\n",
       "            return;\n",
       "        }\n",
       "        else if (typeof evt.data === 'string' && evt.data.slice(0, 21) == \"data:image/png;base64\") {\n",
       "            fig.imageObj.src = evt.data;\n",
       "            fig.updated_canvas_event();\n",
       "            fig.waiting = false;\n",
       "            return;\n",
       "        }\n",
       "\n",
       "        var msg = JSON.parse(evt.data);\n",
       "        var msg_type = msg['type'];\n",
       "\n",
       "        // Call the  \"handle_{type}\" callback, which takes\n",
       "        // the figure and JSON message as its only arguments.\n",
       "        try {\n",
       "            var callback = fig[\"handle_\" + msg_type];\n",
       "        } catch (e) {\n",
       "            console.log(\"No handler for the '\" + msg_type + \"' message type: \", msg);\n",
       "            return;\n",
       "        }\n",
       "\n",
       "        if (callback) {\n",
       "            try {\n",
       "                // console.log(\"Handling '\" + msg_type + \"' message: \", msg);\n",
       "                callback(fig, msg);\n",
       "            } catch (e) {\n",
       "                console.log(\"Exception inside the 'handler_\" + msg_type + \"' callback:\", e, e.stack, msg);\n",
       "            }\n",
       "        }\n",
       "    };\n",
       "}\n",
       "\n",
       "// from http://stackoverflow.com/questions/1114465/getting-mouse-location-in-canvas\n",
       "mpl.findpos = function(e) {\n",
       "    //this section is from http://www.quirksmode.org/js/events_properties.html\n",
       "    var targ;\n",
       "    if (!e)\n",
       "        e = window.event;\n",
       "    if (e.target)\n",
       "        targ = e.target;\n",
       "    else if (e.srcElement)\n",
       "        targ = e.srcElement;\n",
       "    if (targ.nodeType == 3) // defeat Safari bug\n",
       "        targ = targ.parentNode;\n",
       "\n",
       "    // jQuery normalizes the pageX and pageY\n",
       "    // pageX,Y are the mouse positions relative to the document\n",
       "    // offset() returns the position of the element relative to the document\n",
       "    var x = e.pageX - $(targ).offset().left;\n",
       "    var y = e.pageY - $(targ).offset().top;\n",
       "\n",
       "    return {\"x\": x, \"y\": y};\n",
       "};\n",
       "\n",
       "/*\n",
       " * return a copy of an object with only non-object keys\n",
       " * we need this to avoid circular references\n",
       " * http://stackoverflow.com/a/24161582/3208463\n",
       " */\n",
       "function simpleKeys (original) {\n",
       "  return Object.keys(original).reduce(function (obj, key) {\n",
       "    if (typeof original[key] !== 'object')\n",
       "        obj[key] = original[key]\n",
       "    return obj;\n",
       "  }, {});\n",
       "}\n",
       "\n",
       "mpl.figure.prototype.mouse_event = function(event, name) {\n",
       "    var canvas_pos = mpl.findpos(event)\n",
       "\n",
       "    if (name === 'button_press')\n",
       "    {\n",
       "        this.canvas.focus();\n",
       "        this.canvas_div.focus();\n",
       "    }\n",
       "\n",
       "    var x = canvas_pos.x * mpl.ratio;\n",
       "    var y = canvas_pos.y * mpl.ratio;\n",
       "\n",
       "    this.send_message(name, {x: x, y: y, button: event.button,\n",
       "                             step: event.step,\n",
       "                             guiEvent: simpleKeys(event)});\n",
       "\n",
       "    /* This prevents the web browser from automatically changing to\n",
       "     * the text insertion cursor when the button is pressed.  We want\n",
       "     * to control all of the cursor setting manually through the\n",
       "     * 'cursor' event from matplotlib */\n",
       "    event.preventDefault();\n",
       "    return false;\n",
       "}\n",
       "\n",
       "mpl.figure.prototype._key_event_extra = function(event, name) {\n",
       "    // Handle any extra behaviour associated with a key event\n",
       "}\n",
       "\n",
       "mpl.figure.prototype.key_event = function(event, name) {\n",
       "\n",
       "    // Prevent repeat events\n",
       "    if (name == 'key_press')\n",
       "    {\n",
       "        if (event.which === this._key)\n",
       "            return;\n",
       "        else\n",
       "            this._key = event.which;\n",
       "    }\n",
       "    if (name == 'key_release')\n",
       "        this._key = null;\n",
       "\n",
       "    var value = '';\n",
       "    if (event.ctrlKey && event.which != 17)\n",
       "        value += \"ctrl+\";\n",
       "    if (event.altKey && event.which != 18)\n",
       "        value += \"alt+\";\n",
       "    if (event.shiftKey && event.which != 16)\n",
       "        value += \"shift+\";\n",
       "\n",
       "    value += 'k';\n",
       "    value += event.which.toString();\n",
       "\n",
       "    this._key_event_extra(event, name);\n",
       "\n",
       "    this.send_message(name, {key: value,\n",
       "                             guiEvent: simpleKeys(event)});\n",
       "    return false;\n",
       "}\n",
       "\n",
       "mpl.figure.prototype.toolbar_button_onclick = function(name) {\n",
       "    if (name == 'download') {\n",
       "        this.handle_save(this, null);\n",
       "    } else {\n",
       "        this.send_message(\"toolbar_button\", {name: name});\n",
       "    }\n",
       "};\n",
       "\n",
       "mpl.figure.prototype.toolbar_button_onmouseover = function(tooltip) {\n",
       "    this.message.textContent = tooltip;\n",
       "};\n",
       "mpl.toolbar_items = [[\"Home\", \"Reset original view\", \"fa fa-home icon-home\", \"home\"], [\"Back\", \"Back to previous view\", \"fa fa-arrow-left icon-arrow-left\", \"back\"], [\"Forward\", \"Forward to next view\", \"fa fa-arrow-right icon-arrow-right\", \"forward\"], [\"\", \"\", \"\", \"\"], [\"Pan\", \"Pan axes with left mouse, zoom with right\", \"fa fa-arrows icon-move\", \"pan\"], [\"Zoom\", \"Zoom to rectangle\", \"fa fa-square-o icon-check-empty\", \"zoom\"], [\"\", \"\", \"\", \"\"], [\"Download\", \"Download plot\", \"fa fa-floppy-o icon-save\", \"download\"]];\n",
       "\n",
       "mpl.extensions = [\"eps\", \"jpeg\", \"pdf\", \"png\", \"ps\", \"raw\", \"svg\", \"tif\"];\n",
       "\n",
       "mpl.default_extension = \"png\";var comm_websocket_adapter = function(comm) {\n",
       "    // Create a \"websocket\"-like object which calls the given IPython comm\n",
       "    // object with the appropriate methods. Currently this is a non binary\n",
       "    // socket, so there is still some room for performance tuning.\n",
       "    var ws = {};\n",
       "\n",
       "    ws.close = function() {\n",
       "        comm.close()\n",
       "    };\n",
       "    ws.send = function(m) {\n",
       "        //console.log('sending', m);\n",
       "        comm.send(m);\n",
       "    };\n",
       "    // Register the callback with on_msg.\n",
       "    comm.on_msg(function(msg) {\n",
       "        //console.log('receiving', msg['content']['data'], msg);\n",
       "        // Pass the mpl event to the overridden (by mpl) onmessage function.\n",
       "        ws.onmessage(msg['content']['data'])\n",
       "    });\n",
       "    return ws;\n",
       "}\n",
       "\n",
       "mpl.mpl_figure_comm = function(comm, msg) {\n",
       "    // This is the function which gets called when the mpl process\n",
       "    // starts-up an IPython Comm through the \"matplotlib\" channel.\n",
       "\n",
       "    var id = msg.content.data.id;\n",
       "    // Get hold of the div created by the display call when the Comm\n",
       "    // socket was opened in Python.\n",
       "    var element = $(\"#\" + id);\n",
       "    var ws_proxy = comm_websocket_adapter(comm)\n",
       "\n",
       "    function ondownload(figure, format) {\n",
       "        window.open(figure.imageObj.src);\n",
       "    }\n",
       "\n",
       "    var fig = new mpl.figure(id, ws_proxy,\n",
       "                           ondownload,\n",
       "                           element.get(0));\n",
       "\n",
       "    // Call onopen now - mpl needs it, as it is assuming we've passed it a real\n",
       "    // web socket which is closed, not our websocket->open comm proxy.\n",
       "    ws_proxy.onopen();\n",
       "\n",
       "    fig.parent_element = element.get(0);\n",
       "    fig.cell_info = mpl.find_output_cell(\"<div id='\" + id + \"'></div>\");\n",
       "    if (!fig.cell_info) {\n",
       "        console.error(\"Failed to find cell for figure\", id, fig);\n",
       "        return;\n",
       "    }\n",
       "\n",
       "    var output_index = fig.cell_info[2]\n",
       "    var cell = fig.cell_info[0];\n",
       "\n",
       "};\n",
       "\n",
       "mpl.figure.prototype.handle_close = function(fig, msg) {\n",
       "    var width = fig.canvas.width/mpl.ratio\n",
       "    fig.root.unbind('remove')\n",
       "\n",
       "    // Update the output cell to use the data from the current canvas.\n",
       "    fig.push_to_output();\n",
       "    var dataURL = fig.canvas.toDataURL();\n",
       "    // Re-enable the keyboard manager in IPython - without this line, in FF,\n",
       "    // the notebook keyboard shortcuts fail.\n",
       "    IPython.keyboard_manager.enable()\n",
       "    $(fig.parent_element).html('<img src=\"' + dataURL + '\" width=\"' + width + '\">');\n",
       "    fig.close_ws(fig, msg);\n",
       "}\n",
       "\n",
       "mpl.figure.prototype.close_ws = function(fig, msg){\n",
       "    fig.send_message('closing', msg);\n",
       "    // fig.ws.close()\n",
       "}\n",
       "\n",
       "mpl.figure.prototype.push_to_output = function(remove_interactive) {\n",
       "    // Turn the data on the canvas into data in the output cell.\n",
       "    var width = this.canvas.width/mpl.ratio\n",
       "    var dataURL = this.canvas.toDataURL();\n",
       "    this.cell_info[1]['text/html'] = '<img src=\"' + dataURL + '\" width=\"' + width + '\">';\n",
       "}\n",
       "\n",
       "mpl.figure.prototype.updated_canvas_event = function() {\n",
       "    // Tell IPython that the notebook contents must change.\n",
       "    IPython.notebook.set_dirty(true);\n",
       "    this.send_message(\"ack\", {});\n",
       "    var fig = this;\n",
       "    // Wait a second, then push the new image to the DOM so\n",
       "    // that it is saved nicely (might be nice to debounce this).\n",
       "    setTimeout(function () { fig.push_to_output() }, 1000);\n",
       "}\n",
       "\n",
       "mpl.figure.prototype._init_toolbar = function() {\n",
       "    var fig = this;\n",
       "\n",
       "    var nav_element = $('<div/>')\n",
       "    nav_element.attr('style', 'width: 100%');\n",
       "    this.root.append(nav_element);\n",
       "\n",
       "    // Define a callback function for later on.\n",
       "    function toolbar_event(event) {\n",
       "        return fig.toolbar_button_onclick(event['data']);\n",
       "    }\n",
       "    function toolbar_mouse_event(event) {\n",
       "        return fig.toolbar_button_onmouseover(event['data']);\n",
       "    }\n",
       "\n",
       "    for(var toolbar_ind in mpl.toolbar_items){\n",
       "        var name = mpl.toolbar_items[toolbar_ind][0];\n",
       "        var tooltip = mpl.toolbar_items[toolbar_ind][1];\n",
       "        var image = mpl.toolbar_items[toolbar_ind][2];\n",
       "        var method_name = mpl.toolbar_items[toolbar_ind][3];\n",
       "\n",
       "        if (!name) { continue; };\n",
       "\n",
       "        var button = $('<button class=\"btn btn-default\" href=\"#\" title=\"' + name + '\"><i class=\"fa ' + image + ' fa-lg\"></i></button>');\n",
       "        button.click(method_name, toolbar_event);\n",
       "        button.mouseover(tooltip, toolbar_mouse_event);\n",
       "        nav_element.append(button);\n",
       "    }\n",
       "\n",
       "    // Add the status bar.\n",
       "    var status_bar = $('<span class=\"mpl-message\" style=\"text-align:right; float: right;\"/>');\n",
       "    nav_element.append(status_bar);\n",
       "    this.message = status_bar[0];\n",
       "\n",
       "    // Add the close button to the window.\n",
       "    var buttongrp = $('<div class=\"btn-group inline pull-right\"></div>');\n",
       "    var button = $('<button class=\"btn btn-mini btn-primary\" href=\"#\" title=\"Stop Interaction\"><i class=\"fa fa-power-off icon-remove icon-large\"></i></button>');\n",
       "    button.click(function (evt) { fig.handle_close(fig, {}); } );\n",
       "    button.mouseover('Stop Interaction', toolbar_mouse_event);\n",
       "    buttongrp.append(button);\n",
       "    var titlebar = this.root.find($('.ui-dialog-titlebar'));\n",
       "    titlebar.prepend(buttongrp);\n",
       "}\n",
       "\n",
       "mpl.figure.prototype._root_extra_style = function(el){\n",
       "    var fig = this\n",
       "    el.on(\"remove\", function(){\n",
       "\tfig.close_ws(fig, {});\n",
       "    });\n",
       "}\n",
       "\n",
       "mpl.figure.prototype._canvas_extra_style = function(el){\n",
       "    // this is important to make the div 'focusable\n",
       "    el.attr('tabindex', 0)\n",
       "    // reach out to IPython and tell the keyboard manager to turn it's self\n",
       "    // off when our div gets focus\n",
       "\n",
       "    // location in version 3\n",
       "    if (IPython.notebook.keyboard_manager) {\n",
       "        IPython.notebook.keyboard_manager.register_events(el);\n",
       "    }\n",
       "    else {\n",
       "        // location in version 2\n",
       "        IPython.keyboard_manager.register_events(el);\n",
       "    }\n",
       "\n",
       "}\n",
       "\n",
       "mpl.figure.prototype._key_event_extra = function(event, name) {\n",
       "    var manager = IPython.notebook.keyboard_manager;\n",
       "    if (!manager)\n",
       "        manager = IPython.keyboard_manager;\n",
       "\n",
       "    // Check for shift+enter\n",
       "    if (event.shiftKey && event.which == 13) {\n",
       "        this.canvas_div.blur();\n",
       "        event.shiftKey = false;\n",
       "        // Send a \"J\" for go to next cell\n",
       "        event.which = 74;\n",
       "        event.keyCode = 74;\n",
       "        manager.command_mode();\n",
       "        manager.handle_keydown(event);\n",
       "    }\n",
       "}\n",
       "\n",
       "mpl.figure.prototype.handle_save = function(fig, msg) {\n",
       "    fig.ondownload(fig, null);\n",
       "}\n",
       "\n",
       "\n",
       "mpl.find_output_cell = function(html_output) {\n",
       "    // Return the cell and output element which can be found *uniquely* in the notebook.\n",
       "    // Note - this is a bit hacky, but it is done because the \"notebook_saving.Notebook\"\n",
       "    // IPython event is triggered only after the cells have been serialised, which for\n",
       "    // our purposes (turning an active figure into a static one), is too late.\n",
       "    var cells = IPython.notebook.get_cells();\n",
       "    var ncells = cells.length;\n",
       "    for (var i=0; i<ncells; i++) {\n",
       "        var cell = cells[i];\n",
       "        if (cell.cell_type === 'code'){\n",
       "            for (var j=0; j<cell.output_area.outputs.length; j++) {\n",
       "                var data = cell.output_area.outputs[j];\n",
       "                if (data.data) {\n",
       "                    // IPython >= 3 moved mimebundle to data attribute of output\n",
       "                    data = data.data;\n",
       "                }\n",
       "                if (data['text/html'] == html_output) {\n",
       "                    return [cell, data, j];\n",
       "                }\n",
       "            }\n",
       "        }\n",
       "    }\n",
       "}\n",
       "\n",
       "// Register the function which deals with the matplotlib target/channel.\n",
       "// The kernel may be null if the page has been refreshed.\n",
       "if (IPython.notebook.kernel != null) {\n",
       "    IPython.notebook.kernel.comm_manager.register_target('matplotlib', mpl.mpl_figure_comm);\n",
       "}\n"
      ],
      "text/plain": [
       "<IPython.core.display.Javascript object>"
      ]
     },
     "metadata": {},
     "output_type": "display_data"
    },
    {
     "data": {
      "text/html": [
       "<img src=\"data:image/png;base64,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\" width=\"719.999989271164\">"
      ],
      "text/plain": [
       "<IPython.core.display.HTML object>"
      ]
     },
     "metadata": {},
     "output_type": "display_data"
    },
    {
     "name": "stdout",
     "output_type": "stream",
     "text": [
      "(100, 2)\n"
     ]
    },
    {
     "data": {
      "application/javascript": [
       "/* Put everything inside the global mpl namespace */\n",
       "window.mpl = {};\n",
       "\n",
       "\n",
       "mpl.get_websocket_type = function() {\n",
       "    if (typeof(WebSocket) !== 'undefined') {\n",
       "        return WebSocket;\n",
       "    } else if (typeof(MozWebSocket) !== 'undefined') {\n",
       "        return MozWebSocket;\n",
       "    } else {\n",
       "        alert('Your browser does not have WebSocket support.' +\n",
       "              'Please try Chrome, Safari or Firefox ≥ 6. ' +\n",
       "              'Firefox 4 and 5 are also supported but you ' +\n",
       "              'have to enable WebSockets in about:config.');\n",
       "    };\n",
       "}\n",
       "\n",
       "mpl.figure = function(figure_id, websocket, ondownload, parent_element) {\n",
       "    this.id = figure_id;\n",
       "\n",
       "    this.ws = websocket;\n",
       "\n",
       "    this.supports_binary = (this.ws.binaryType != undefined);\n",
       "\n",
       "    if (!this.supports_binary) {\n",
       "        var warnings = document.getElementById(\"mpl-warnings\");\n",
       "        if (warnings) {\n",
       "            warnings.style.display = 'block';\n",
       "            warnings.textContent = (\n",
       "                \"This browser does not support binary websocket messages. \" +\n",
       "                    \"Performance may be slow.\");\n",
       "        }\n",
       "    }\n",
       "\n",
       "    this.imageObj = new Image();\n",
       "\n",
       "    this.context = undefined;\n",
       "    this.message = undefined;\n",
       "    this.canvas = undefined;\n",
       "    this.rubberband_canvas = undefined;\n",
       "    this.rubberband_context = undefined;\n",
       "    this.format_dropdown = undefined;\n",
       "\n",
       "    this.image_mode = 'full';\n",
       "\n",
       "    this.root = $('<div/>');\n",
       "    this._root_extra_style(this.root)\n",
       "    this.root.attr('style', 'display: inline-block');\n",
       "\n",
       "    $(parent_element).append(this.root);\n",
       "\n",
       "    this._init_header(this);\n",
       "    this._init_canvas(this);\n",
       "    this._init_toolbar(this);\n",
       "\n",
       "    var fig = this;\n",
       "\n",
       "    this.waiting = false;\n",
       "\n",
       "    this.ws.onopen =  function () {\n",
       "            fig.send_message(\"supports_binary\", {value: fig.supports_binary});\n",
       "            fig.send_message(\"send_image_mode\", {});\n",
       "            if (mpl.ratio != 1) {\n",
       "                fig.send_message(\"set_dpi_ratio\", {'dpi_ratio': mpl.ratio});\n",
       "            }\n",
       "            fig.send_message(\"refresh\", {});\n",
       "        }\n",
       "\n",
       "    this.imageObj.onload = function() {\n",
       "            if (fig.image_mode == 'full') {\n",
       "                // Full images could contain transparency (where diff images\n",
       "                // almost always do), so we need to clear the canvas so that\n",
       "                // there is no ghosting.\n",
       "                fig.context.clearRect(0, 0, fig.canvas.width, fig.canvas.height);\n",
       "            }\n",
       "            fig.context.drawImage(fig.imageObj, 0, 0);\n",
       "        };\n",
       "\n",
       "    this.imageObj.onunload = function() {\n",
       "        fig.ws.close();\n",
       "    }\n",
       "\n",
       "    this.ws.onmessage = this._make_on_message_function(this);\n",
       "\n",
       "    this.ondownload = ondownload;\n",
       "}\n",
       "\n",
       "mpl.figure.prototype._init_header = function() {\n",
       "    var titlebar = $(\n",
       "        '<div class=\"ui-dialog-titlebar ui-widget-header ui-corner-all ' +\n",
       "        'ui-helper-clearfix\"/>');\n",
       "    var titletext = $(\n",
       "        '<div class=\"ui-dialog-title\" style=\"width: 100%; ' +\n",
       "        'text-align: center; padding: 3px;\"/>');\n",
       "    titlebar.append(titletext)\n",
       "    this.root.append(titlebar);\n",
       "    this.header = titletext[0];\n",
       "}\n",
       "\n",
       "\n",
       "\n",
       "mpl.figure.prototype._canvas_extra_style = function(canvas_div) {\n",
       "\n",
       "}\n",
       "\n",
       "\n",
       "mpl.figure.prototype._root_extra_style = function(canvas_div) {\n",
       "\n",
       "}\n",
       "\n",
       "mpl.figure.prototype._init_canvas = function() {\n",
       "    var fig = this;\n",
       "\n",
       "    var canvas_div = $('<div/>');\n",
       "\n",
       "    canvas_div.attr('style', 'position: relative; clear: both; outline: 0');\n",
       "\n",
       "    function canvas_keyboard_event(event) {\n",
       "        return fig.key_event(event, event['data']);\n",
       "    }\n",
       "\n",
       "    canvas_div.keydown('key_press', canvas_keyboard_event);\n",
       "    canvas_div.keyup('key_release', canvas_keyboard_event);\n",
       "    this.canvas_div = canvas_div\n",
       "    this._canvas_extra_style(canvas_div)\n",
       "    this.root.append(canvas_div);\n",
       "\n",
       "    var canvas = $('<canvas/>');\n",
       "    canvas.addClass('mpl-canvas');\n",
       "    canvas.attr('style', \"left: 0; top: 0; z-index: 0; outline: 0\")\n",
       "\n",
       "    this.canvas = canvas[0];\n",
       "    this.context = canvas[0].getContext(\"2d\");\n",
       "\n",
       "    var backingStore = this.context.backingStorePixelRatio ||\n",
       "\tthis.context.webkitBackingStorePixelRatio ||\n",
       "\tthis.context.mozBackingStorePixelRatio ||\n",
       "\tthis.context.msBackingStorePixelRatio ||\n",
       "\tthis.context.oBackingStorePixelRatio ||\n",
       "\tthis.context.backingStorePixelRatio || 1;\n",
       "\n",
       "    mpl.ratio = (window.devicePixelRatio || 1) / backingStore;\n",
       "\n",
       "    var rubberband = $('<canvas/>');\n",
       "    rubberband.attr('style', \"position: absolute; left: 0; top: 0; z-index: 1;\")\n",
       "\n",
       "    var pass_mouse_events = true;\n",
       "\n",
       "    canvas_div.resizable({\n",
       "        start: function(event, ui) {\n",
       "            pass_mouse_events = false;\n",
       "        },\n",
       "        resize: function(event, ui) {\n",
       "            fig.request_resize(ui.size.width, ui.size.height);\n",
       "        },\n",
       "        stop: function(event, ui) {\n",
       "            pass_mouse_events = true;\n",
       "            fig.request_resize(ui.size.width, ui.size.height);\n",
       "        },\n",
       "    });\n",
       "\n",
       "    function mouse_event_fn(event) {\n",
       "        if (pass_mouse_events)\n",
       "            return fig.mouse_event(event, event['data']);\n",
       "    }\n",
       "\n",
       "    rubberband.mousedown('button_press', mouse_event_fn);\n",
       "    rubberband.mouseup('button_release', mouse_event_fn);\n",
       "    // Throttle sequential mouse events to 1 every 20ms.\n",
       "    rubberband.mousemove('motion_notify', mouse_event_fn);\n",
       "\n",
       "    rubberband.mouseenter('figure_enter', mouse_event_fn);\n",
       "    rubberband.mouseleave('figure_leave', mouse_event_fn);\n",
       "\n",
       "    canvas_div.on(\"wheel\", function (event) {\n",
       "        event = event.originalEvent;\n",
       "        event['data'] = 'scroll'\n",
       "        if (event.deltaY < 0) {\n",
       "            event.step = 1;\n",
       "        } else {\n",
       "            event.step = -1;\n",
       "        }\n",
       "        mouse_event_fn(event);\n",
       "    });\n",
       "\n",
       "    canvas_div.append(canvas);\n",
       "    canvas_div.append(rubberband);\n",
       "\n",
       "    this.rubberband = rubberband;\n",
       "    this.rubberband_canvas = rubberband[0];\n",
       "    this.rubberband_context = rubberband[0].getContext(\"2d\");\n",
       "    this.rubberband_context.strokeStyle = \"#000000\";\n",
       "\n",
       "    this._resize_canvas = function(width, height) {\n",
       "        // Keep the size of the canvas, canvas container, and rubber band\n",
       "        // canvas in synch.\n",
       "        canvas_div.css('width', width)\n",
       "        canvas_div.css('height', height)\n",
       "\n",
       "        canvas.attr('width', width * mpl.ratio);\n",
       "        canvas.attr('height', height * mpl.ratio);\n",
       "        canvas.attr('style', 'width: ' + width + 'px; height: ' + height + 'px;');\n",
       "\n",
       "        rubberband.attr('width', width);\n",
       "        rubberband.attr('height', height);\n",
       "    }\n",
       "\n",
       "    // Set the figure to an initial 600x600px, this will subsequently be updated\n",
       "    // upon first draw.\n",
       "    this._resize_canvas(600, 600);\n",
       "\n",
       "    // Disable right mouse context menu.\n",
       "    $(this.rubberband_canvas).bind(\"contextmenu\",function(e){\n",
       "        return false;\n",
       "    });\n",
       "\n",
       "    function set_focus () {\n",
       "        canvas.focus();\n",
       "        canvas_div.focus();\n",
       "    }\n",
       "\n",
       "    window.setTimeout(set_focus, 100);\n",
       "}\n",
       "\n",
       "mpl.figure.prototype._init_toolbar = function() {\n",
       "    var fig = this;\n",
       "\n",
       "    var nav_element = $('<div/>')\n",
       "    nav_element.attr('style', 'width: 100%');\n",
       "    this.root.append(nav_element);\n",
       "\n",
       "    // Define a callback function for later on.\n",
       "    function toolbar_event(event) {\n",
       "        return fig.toolbar_button_onclick(event['data']);\n",
       "    }\n",
       "    function toolbar_mouse_event(event) {\n",
       "        return fig.toolbar_button_onmouseover(event['data']);\n",
       "    }\n",
       "\n",
       "    for(var toolbar_ind in mpl.toolbar_items) {\n",
       "        var name = mpl.toolbar_items[toolbar_ind][0];\n",
       "        var tooltip = mpl.toolbar_items[toolbar_ind][1];\n",
       "        var image = mpl.toolbar_items[toolbar_ind][2];\n",
       "        var method_name = mpl.toolbar_items[toolbar_ind][3];\n",
       "\n",
       "        if (!name) {\n",
       "            // put a spacer in here.\n",
       "            continue;\n",
       "        }\n",
       "        var button = $('<button/>');\n",
       "        button.addClass('ui-button ui-widget ui-state-default ui-corner-all ' +\n",
       "                        'ui-button-icon-only');\n",
       "        button.attr('role', 'button');\n",
       "        button.attr('aria-disabled', 'false');\n",
       "        button.click(method_name, toolbar_event);\n",
       "        button.mouseover(tooltip, toolbar_mouse_event);\n",
       "\n",
       "        var icon_img = $('<span/>');\n",
       "        icon_img.addClass('ui-button-icon-primary ui-icon');\n",
       "        icon_img.addClass(image);\n",
       "        icon_img.addClass('ui-corner-all');\n",
       "\n",
       "        var tooltip_span = $('<span/>');\n",
       "        tooltip_span.addClass('ui-button-text');\n",
       "        tooltip_span.html(tooltip);\n",
       "\n",
       "        button.append(icon_img);\n",
       "        button.append(tooltip_span);\n",
       "\n",
       "        nav_element.append(button);\n",
       "    }\n",
       "\n",
       "    var fmt_picker_span = $('<span/>');\n",
       "\n",
       "    var fmt_picker = $('<select/>');\n",
       "    fmt_picker.addClass('mpl-toolbar-option ui-widget ui-widget-content');\n",
       "    fmt_picker_span.append(fmt_picker);\n",
       "    nav_element.append(fmt_picker_span);\n",
       "    this.format_dropdown = fmt_picker[0];\n",
       "\n",
       "    for (var ind in mpl.extensions) {\n",
       "        var fmt = mpl.extensions[ind];\n",
       "        var option = $(\n",
       "            '<option/>', {selected: fmt === mpl.default_extension}).html(fmt);\n",
       "        fmt_picker.append(option)\n",
       "    }\n",
       "\n",
       "    // Add hover states to the ui-buttons\n",
       "    $( \".ui-button\" ).hover(\n",
       "        function() { $(this).addClass(\"ui-state-hover\");},\n",
       "        function() { $(this).removeClass(\"ui-state-hover\");}\n",
       "    );\n",
       "\n",
       "    var status_bar = $('<span class=\"mpl-message\"/>');\n",
       "    nav_element.append(status_bar);\n",
       "    this.message = status_bar[0];\n",
       "}\n",
       "\n",
       "mpl.figure.prototype.request_resize = function(x_pixels, y_pixels) {\n",
       "    // Request matplotlib to resize the figure. Matplotlib will then trigger a resize in the client,\n",
       "    // which will in turn request a refresh of the image.\n",
       "    this.send_message('resize', {'width': x_pixels, 'height': y_pixels});\n",
       "}\n",
       "\n",
       "mpl.figure.prototype.send_message = function(type, properties) {\n",
       "    properties['type'] = type;\n",
       "    properties['figure_id'] = this.id;\n",
       "    this.ws.send(JSON.stringify(properties));\n",
       "}\n",
       "\n",
       "mpl.figure.prototype.send_draw_message = function() {\n",
       "    if (!this.waiting) {\n",
       "        this.waiting = true;\n",
       "        this.ws.send(JSON.stringify({type: \"draw\", figure_id: this.id}));\n",
       "    }\n",
       "}\n",
       "\n",
       "\n",
       "mpl.figure.prototype.handle_save = function(fig, msg) {\n",
       "    var format_dropdown = fig.format_dropdown;\n",
       "    var format = format_dropdown.options[format_dropdown.selectedIndex].value;\n",
       "    fig.ondownload(fig, format);\n",
       "}\n",
       "\n",
       "\n",
       "mpl.figure.prototype.handle_resize = function(fig, msg) {\n",
       "    var size = msg['size'];\n",
       "    if (size[0] != fig.canvas.width || size[1] != fig.canvas.height) {\n",
       "        fig._resize_canvas(size[0], size[1]);\n",
       "        fig.send_message(\"refresh\", {});\n",
       "    };\n",
       "}\n",
       "\n",
       "mpl.figure.prototype.handle_rubberband = function(fig, msg) {\n",
       "    var x0 = msg['x0'] / mpl.ratio;\n",
       "    var y0 = (fig.canvas.height - msg['y0']) / mpl.ratio;\n",
       "    var x1 = msg['x1'] / mpl.ratio;\n",
       "    var y1 = (fig.canvas.height - msg['y1']) / mpl.ratio;\n",
       "    x0 = Math.floor(x0) + 0.5;\n",
       "    y0 = Math.floor(y0) + 0.5;\n",
       "    x1 = Math.floor(x1) + 0.5;\n",
       "    y1 = Math.floor(y1) + 0.5;\n",
       "    var min_x = Math.min(x0, x1);\n",
       "    var min_y = Math.min(y0, y1);\n",
       "    var width = Math.abs(x1 - x0);\n",
       "    var height = Math.abs(y1 - y0);\n",
       "\n",
       "    fig.rubberband_context.clearRect(\n",
       "        0, 0, fig.canvas.width, fig.canvas.height);\n",
       "\n",
       "    fig.rubberband_context.strokeRect(min_x, min_y, width, height);\n",
       "}\n",
       "\n",
       "mpl.figure.prototype.handle_figure_label = function(fig, msg) {\n",
       "    // Updates the figure title.\n",
       "    fig.header.textContent = msg['label'];\n",
       "}\n",
       "\n",
       "mpl.figure.prototype.handle_cursor = function(fig, msg) {\n",
       "    var cursor = msg['cursor'];\n",
       "    switch(cursor)\n",
       "    {\n",
       "    case 0:\n",
       "        cursor = 'pointer';\n",
       "        break;\n",
       "    case 1:\n",
       "        cursor = 'default';\n",
       "        break;\n",
       "    case 2:\n",
       "        cursor = 'crosshair';\n",
       "        break;\n",
       "    case 3:\n",
       "        cursor = 'move';\n",
       "        break;\n",
       "    }\n",
       "    fig.rubberband_canvas.style.cursor = cursor;\n",
       "}\n",
       "\n",
       "mpl.figure.prototype.handle_message = function(fig, msg) {\n",
       "    fig.message.textContent = msg['message'];\n",
       "}\n",
       "\n",
       "mpl.figure.prototype.handle_draw = function(fig, msg) {\n",
       "    // Request the server to send over a new figure.\n",
       "    fig.send_draw_message();\n",
       "}\n",
       "\n",
       "mpl.figure.prototype.handle_image_mode = function(fig, msg) {\n",
       "    fig.image_mode = msg['mode'];\n",
       "}\n",
       "\n",
       "mpl.figure.prototype.updated_canvas_event = function() {\n",
       "    // Called whenever the canvas gets updated.\n",
       "    this.send_message(\"ack\", {});\n",
       "}\n",
       "\n",
       "// A function to construct a web socket function for onmessage handling.\n",
       "// Called in the figure constructor.\n",
       "mpl.figure.prototype._make_on_message_function = function(fig) {\n",
       "    return function socket_on_message(evt) {\n",
       "        if (evt.data instanceof Blob) {\n",
       "            /* FIXME: We get \"Resource interpreted as Image but\n",
       "             * transferred with MIME type text/plain:\" errors on\n",
       "             * Chrome.  But how to set the MIME type?  It doesn't seem\n",
       "             * to be part of the websocket stream */\n",
       "            evt.data.type = \"image/png\";\n",
       "\n",
       "            /* Free the memory for the previous frames */\n",
       "            if (fig.imageObj.src) {\n",
       "                (window.URL || window.webkitURL).revokeObjectURL(\n",
       "                    fig.imageObj.src);\n",
       "            }\n",
       "\n",
       "            fig.imageObj.src = (window.URL || window.webkitURL).createObjectURL(\n",
       "                evt.data);\n",
       "            fig.updated_canvas_event();\n",
       "            fig.waiting = false;\n",
       "            return;\n",
       "        }\n",
       "        else if (typeof evt.data === 'string' && evt.data.slice(0, 21) == \"data:image/png;base64\") {\n",
       "            fig.imageObj.src = evt.data;\n",
       "            fig.updated_canvas_event();\n",
       "            fig.waiting = false;\n",
       "            return;\n",
       "        }\n",
       "\n",
       "        var msg = JSON.parse(evt.data);\n",
       "        var msg_type = msg['type'];\n",
       "\n",
       "        // Call the  \"handle_{type}\" callback, which takes\n",
       "        // the figure and JSON message as its only arguments.\n",
       "        try {\n",
       "            var callback = fig[\"handle_\" + msg_type];\n",
       "        } catch (e) {\n",
       "            console.log(\"No handler for the '\" + msg_type + \"' message type: \", msg);\n",
       "            return;\n",
       "        }\n",
       "\n",
       "        if (callback) {\n",
       "            try {\n",
       "                // console.log(\"Handling '\" + msg_type + \"' message: \", msg);\n",
       "                callback(fig, msg);\n",
       "            } catch (e) {\n",
       "                console.log(\"Exception inside the 'handler_\" + msg_type + \"' callback:\", e, e.stack, msg);\n",
       "            }\n",
       "        }\n",
       "    };\n",
       "}\n",
       "\n",
       "// from http://stackoverflow.com/questions/1114465/getting-mouse-location-in-canvas\n",
       "mpl.findpos = function(e) {\n",
       "    //this section is from http://www.quirksmode.org/js/events_properties.html\n",
       "    var targ;\n",
       "    if (!e)\n",
       "        e = window.event;\n",
       "    if (e.target)\n",
       "        targ = e.target;\n",
       "    else if (e.srcElement)\n",
       "        targ = e.srcElement;\n",
       "    if (targ.nodeType == 3) // defeat Safari bug\n",
       "        targ = targ.parentNode;\n",
       "\n",
       "    // jQuery normalizes the pageX and pageY\n",
       "    // pageX,Y are the mouse positions relative to the document\n",
       "    // offset() returns the position of the element relative to the document\n",
       "    var x = e.pageX - $(targ).offset().left;\n",
       "    var y = e.pageY - $(targ).offset().top;\n",
       "\n",
       "    return {\"x\": x, \"y\": y};\n",
       "};\n",
       "\n",
       "/*\n",
       " * return a copy of an object with only non-object keys\n",
       " * we need this to avoid circular references\n",
       " * http://stackoverflow.com/a/24161582/3208463\n",
       " */\n",
       "function simpleKeys (original) {\n",
       "  return Object.keys(original).reduce(function (obj, key) {\n",
       "    if (typeof original[key] !== 'object')\n",
       "        obj[key] = original[key]\n",
       "    return obj;\n",
       "  }, {});\n",
       "}\n",
       "\n",
       "mpl.figure.prototype.mouse_event = function(event, name) {\n",
       "    var canvas_pos = mpl.findpos(event)\n",
       "\n",
       "    if (name === 'button_press')\n",
       "    {\n",
       "        this.canvas.focus();\n",
       "        this.canvas_div.focus();\n",
       "    }\n",
       "\n",
       "    var x = canvas_pos.x * mpl.ratio;\n",
       "    var y = canvas_pos.y * mpl.ratio;\n",
       "\n",
       "    this.send_message(name, {x: x, y: y, button: event.button,\n",
       "                             step: event.step,\n",
       "                             guiEvent: simpleKeys(event)});\n",
       "\n",
       "    /* This prevents the web browser from automatically changing to\n",
       "     * the text insertion cursor when the button is pressed.  We want\n",
       "     * to control all of the cursor setting manually through the\n",
       "     * 'cursor' event from matplotlib */\n",
       "    event.preventDefault();\n",
       "    return false;\n",
       "}\n",
       "\n",
       "mpl.figure.prototype._key_event_extra = function(event, name) {\n",
       "    // Handle any extra behaviour associated with a key event\n",
       "}\n",
       "\n",
       "mpl.figure.prototype.key_event = function(event, name) {\n",
       "\n",
       "    // Prevent repeat events\n",
       "    if (name == 'key_press')\n",
       "    {\n",
       "        if (event.which === this._key)\n",
       "            return;\n",
       "        else\n",
       "            this._key = event.which;\n",
       "    }\n",
       "    if (name == 'key_release')\n",
       "        this._key = null;\n",
       "\n",
       "    var value = '';\n",
       "    if (event.ctrlKey && event.which != 17)\n",
       "        value += \"ctrl+\";\n",
       "    if (event.altKey && event.which != 18)\n",
       "        value += \"alt+\";\n",
       "    if (event.shiftKey && event.which != 16)\n",
       "        value += \"shift+\";\n",
       "\n",
       "    value += 'k';\n",
       "    value += event.which.toString();\n",
       "\n",
       "    this._key_event_extra(event, name);\n",
       "\n",
       "    this.send_message(name, {key: value,\n",
       "                             guiEvent: simpleKeys(event)});\n",
       "    return false;\n",
       "}\n",
       "\n",
       "mpl.figure.prototype.toolbar_button_onclick = function(name) {\n",
       "    if (name == 'download') {\n",
       "        this.handle_save(this, null);\n",
       "    } else {\n",
       "        this.send_message(\"toolbar_button\", {name: name});\n",
       "    }\n",
       "};\n",
       "\n",
       "mpl.figure.prototype.toolbar_button_onmouseover = function(tooltip) {\n",
       "    this.message.textContent = tooltip;\n",
       "};\n",
       "mpl.toolbar_items = [[\"Home\", \"Reset original view\", \"fa fa-home icon-home\", \"home\"], [\"Back\", \"Back to previous view\", \"fa fa-arrow-left icon-arrow-left\", \"back\"], [\"Forward\", \"Forward to next view\", \"fa fa-arrow-right icon-arrow-right\", \"forward\"], [\"\", \"\", \"\", \"\"], [\"Pan\", \"Pan axes with left mouse, zoom with right\", \"fa fa-arrows icon-move\", \"pan\"], [\"Zoom\", \"Zoom to rectangle\", \"fa fa-square-o icon-check-empty\", \"zoom\"], [\"\", \"\", \"\", \"\"], [\"Download\", \"Download plot\", \"fa fa-floppy-o icon-save\", \"download\"]];\n",
       "\n",
       "mpl.extensions = [\"eps\", \"jpeg\", \"pdf\", \"png\", \"ps\", \"raw\", \"svg\", \"tif\"];\n",
       "\n",
       "mpl.default_extension = \"png\";var comm_websocket_adapter = function(comm) {\n",
       "    // Create a \"websocket\"-like object which calls the given IPython comm\n",
       "    // object with the appropriate methods. Currently this is a non binary\n",
       "    // socket, so there is still some room for performance tuning.\n",
       "    var ws = {};\n",
       "\n",
       "    ws.close = function() {\n",
       "        comm.close()\n",
       "    };\n",
       "    ws.send = function(m) {\n",
       "        //console.log('sending', m);\n",
       "        comm.send(m);\n",
       "    };\n",
       "    // Register the callback with on_msg.\n",
       "    comm.on_msg(function(msg) {\n",
       "        //console.log('receiving', msg['content']['data'], msg);\n",
       "        // Pass the mpl event to the overridden (by mpl) onmessage function.\n",
       "        ws.onmessage(msg['content']['data'])\n",
       "    });\n",
       "    return ws;\n",
       "}\n",
       "\n",
       "mpl.mpl_figure_comm = function(comm, msg) {\n",
       "    // This is the function which gets called when the mpl process\n",
       "    // starts-up an IPython Comm through the \"matplotlib\" channel.\n",
       "\n",
       "    var id = msg.content.data.id;\n",
       "    // Get hold of the div created by the display call when the Comm\n",
       "    // socket was opened in Python.\n",
       "    var element = $(\"#\" + id);\n",
       "    var ws_proxy = comm_websocket_adapter(comm)\n",
       "\n",
       "    function ondownload(figure, format) {\n",
       "        window.open(figure.imageObj.src);\n",
       "    }\n",
       "\n",
       "    var fig = new mpl.figure(id, ws_proxy,\n",
       "                           ondownload,\n",
       "                           element.get(0));\n",
       "\n",
       "    // Call onopen now - mpl needs it, as it is assuming we've passed it a real\n",
       "    // web socket which is closed, not our websocket->open comm proxy.\n",
       "    ws_proxy.onopen();\n",
       "\n",
       "    fig.parent_element = element.get(0);\n",
       "    fig.cell_info = mpl.find_output_cell(\"<div id='\" + id + \"'></div>\");\n",
       "    if (!fig.cell_info) {\n",
       "        console.error(\"Failed to find cell for figure\", id, fig);\n",
       "        return;\n",
       "    }\n",
       "\n",
       "    var output_index = fig.cell_info[2]\n",
       "    var cell = fig.cell_info[0];\n",
       "\n",
       "};\n",
       "\n",
       "mpl.figure.prototype.handle_close = function(fig, msg) {\n",
       "    var width = fig.canvas.width/mpl.ratio\n",
       "    fig.root.unbind('remove')\n",
       "\n",
       "    // Update the output cell to use the data from the current canvas.\n",
       "    fig.push_to_output();\n",
       "    var dataURL = fig.canvas.toDataURL();\n",
       "    // Re-enable the keyboard manager in IPython - without this line, in FF,\n",
       "    // the notebook keyboard shortcuts fail.\n",
       "    IPython.keyboard_manager.enable()\n",
       "    $(fig.parent_element).html('<img src=\"' + dataURL + '\" width=\"' + width + '\">');\n",
       "    fig.close_ws(fig, msg);\n",
       "}\n",
       "\n",
       "mpl.figure.prototype.close_ws = function(fig, msg){\n",
       "    fig.send_message('closing', msg);\n",
       "    // fig.ws.close()\n",
       "}\n",
       "\n",
       "mpl.figure.prototype.push_to_output = function(remove_interactive) {\n",
       "    // Turn the data on the canvas into data in the output cell.\n",
       "    var width = this.canvas.width/mpl.ratio\n",
       "    var dataURL = this.canvas.toDataURL();\n",
       "    this.cell_info[1]['text/html'] = '<img src=\"' + dataURL + '\" width=\"' + width + '\">';\n",
       "}\n",
       "\n",
       "mpl.figure.prototype.updated_canvas_event = function() {\n",
       "    // Tell IPython that the notebook contents must change.\n",
       "    IPython.notebook.set_dirty(true);\n",
       "    this.send_message(\"ack\", {});\n",
       "    var fig = this;\n",
       "    // Wait a second, then push the new image to the DOM so\n",
       "    // that it is saved nicely (might be nice to debounce this).\n",
       "    setTimeout(function () { fig.push_to_output() }, 1000);\n",
       "}\n",
       "\n",
       "mpl.figure.prototype._init_toolbar = function() {\n",
       "    var fig = this;\n",
       "\n",
       "    var nav_element = $('<div/>')\n",
       "    nav_element.attr('style', 'width: 100%');\n",
       "    this.root.append(nav_element);\n",
       "\n",
       "    // Define a callback function for later on.\n",
       "    function toolbar_event(event) {\n",
       "        return fig.toolbar_button_onclick(event['data']);\n",
       "    }\n",
       "    function toolbar_mouse_event(event) {\n",
       "        return fig.toolbar_button_onmouseover(event['data']);\n",
       "    }\n",
       "\n",
       "    for(var toolbar_ind in mpl.toolbar_items){\n",
       "        var name = mpl.toolbar_items[toolbar_ind][0];\n",
       "        var tooltip = mpl.toolbar_items[toolbar_ind][1];\n",
       "        var image = mpl.toolbar_items[toolbar_ind][2];\n",
       "        var method_name = mpl.toolbar_items[toolbar_ind][3];\n",
       "\n",
       "        if (!name) { continue; };\n",
       "\n",
       "        var button = $('<button class=\"btn btn-default\" href=\"#\" title=\"' + name + '\"><i class=\"fa ' + image + ' fa-lg\"></i></button>');\n",
       "        button.click(method_name, toolbar_event);\n",
       "        button.mouseover(tooltip, toolbar_mouse_event);\n",
       "        nav_element.append(button);\n",
       "    }\n",
       "\n",
       "    // Add the status bar.\n",
       "    var status_bar = $('<span class=\"mpl-message\" style=\"text-align:right; float: right;\"/>');\n",
       "    nav_element.append(status_bar);\n",
       "    this.message = status_bar[0];\n",
       "\n",
       "    // Add the close button to the window.\n",
       "    var buttongrp = $('<div class=\"btn-group inline pull-right\"></div>');\n",
       "    var button = $('<button class=\"btn btn-mini btn-primary\" href=\"#\" title=\"Stop Interaction\"><i class=\"fa fa-power-off icon-remove icon-large\"></i></button>');\n",
       "    button.click(function (evt) { fig.handle_close(fig, {}); } );\n",
       "    button.mouseover('Stop Interaction', toolbar_mouse_event);\n",
       "    buttongrp.append(button);\n",
       "    var titlebar = this.root.find($('.ui-dialog-titlebar'));\n",
       "    titlebar.prepend(buttongrp);\n",
       "}\n",
       "\n",
       "mpl.figure.prototype._root_extra_style = function(el){\n",
       "    var fig = this\n",
       "    el.on(\"remove\", function(){\n",
       "\tfig.close_ws(fig, {});\n",
       "    });\n",
       "}\n",
       "\n",
       "mpl.figure.prototype._canvas_extra_style = function(el){\n",
       "    // this is important to make the div 'focusable\n",
       "    el.attr('tabindex', 0)\n",
       "    // reach out to IPython and tell the keyboard manager to turn it's self\n",
       "    // off when our div gets focus\n",
       "\n",
       "    // location in version 3\n",
       "    if (IPython.notebook.keyboard_manager) {\n",
       "        IPython.notebook.keyboard_manager.register_events(el);\n",
       "    }\n",
       "    else {\n",
       "        // location in version 2\n",
       "        IPython.keyboard_manager.register_events(el);\n",
       "    }\n",
       "\n",
       "}\n",
       "\n",
       "mpl.figure.prototype._key_event_extra = function(event, name) {\n",
       "    var manager = IPython.notebook.keyboard_manager;\n",
       "    if (!manager)\n",
       "        manager = IPython.keyboard_manager;\n",
       "\n",
       "    // Check for shift+enter\n",
       "    if (event.shiftKey && event.which == 13) {\n",
       "        this.canvas_div.blur();\n",
       "        event.shiftKey = false;\n",
       "        // Send a \"J\" for go to next cell\n",
       "        event.which = 74;\n",
       "        event.keyCode = 74;\n",
       "        manager.command_mode();\n",
       "        manager.handle_keydown(event);\n",
       "    }\n",
       "}\n",
       "\n",
       "mpl.figure.prototype.handle_save = function(fig, msg) {\n",
       "    fig.ondownload(fig, null);\n",
       "}\n",
       "\n",
       "\n",
       "mpl.find_output_cell = function(html_output) {\n",
       "    // Return the cell and output element which can be found *uniquely* in the notebook.\n",
       "    // Note - this is a bit hacky, but it is done because the \"notebook_saving.Notebook\"\n",
       "    // IPython event is triggered only after the cells have been serialised, which for\n",
       "    // our purposes (turning an active figure into a static one), is too late.\n",
       "    var cells = IPython.notebook.get_cells();\n",
       "    var ncells = cells.length;\n",
       "    for (var i=0; i<ncells; i++) {\n",
       "        var cell = cells[i];\n",
       "        if (cell.cell_type === 'code'){\n",
       "            for (var j=0; j<cell.output_area.outputs.length; j++) {\n",
       "                var data = cell.output_area.outputs[j];\n",
       "                if (data.data) {\n",
       "                    // IPython >= 3 moved mimebundle to data attribute of output\n",
       "                    data = data.data;\n",
       "                }\n",
       "                if (data['text/html'] == html_output) {\n",
       "                    return [cell, data, j];\n",
       "                }\n",
       "            }\n",
       "        }\n",
       "    }\n",
       "}\n",
       "\n",
       "// Register the function which deals with the matplotlib target/channel.\n",
       "// The kernel may be null if the page has been refreshed.\n",
       "if (IPython.notebook.kernel != null) {\n",
       "    IPython.notebook.kernel.comm_manager.register_target('matplotlib', mpl.mpl_figure_comm);\n",
       "}\n"
      ],
      "text/plain": [
       "<IPython.core.display.Javascript object>"
      ]
     },
     "metadata": {},
     "output_type": "display_data"
    },
    {
     "data": {
      "text/html": [
       "<img src=\"data:image/png;base64,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\" width=\"719.999989271164\">"
      ],
      "text/plain": [
       "<IPython.core.display.HTML object>"
      ]
     },
     "metadata": {},
     "output_type": "display_data"
    }
   ],
   "source": [
    "%matplotlib notebook\n",
    "plot_multiple_linear_regression(mpg_train, \"displacement\", \"weight\", \"mpg\")"
   ]
  },
  {
   "cell_type": "code",
   "execution_count": null,
   "metadata": {},
   "outputs": [],
   "source": [
    "%matplotlib inline\n",
    "\n",
    "multiple_model = LinearRegression()\n",
    "X3 = mpg_train[[\"displacement\", \"weight\"]] # select both the displacement and weight columns from mpg_train\n",
    "multiple_model.fit(X3, Y)\n",
    "\n",
    "print(\"Multiple Linear Regression R^2:\", multiple_model.score(X3, Y))"
   ]
  },
  {
   "cell_type": "markdown",
   "metadata": {},
   "source": [
    "**Question**: Is this an $R^2$ value we want? Why or why not?"
   ]
  },
  {
   "cell_type": "code",
   "execution_count": null,
   "metadata": {},
   "outputs": [],
   "source": [
    "dispX = mpg_train[[\"displacement\"]] # select just displacement from mpg_train\n",
    "wtX = mpg_train[[\"weight\"]] # select just weight from mpg_train\n",
    "\n",
    "linear_model.fit(dispX, Y)\n",
    "print(\"Simple Linear Regression (displacement) R^2:\", linear_model.score(dispX, Y))\n",
    "\n",
    "linear_model.fit(wtX, Y)\n",
    "print(\"Simple Linear Regression (weight) R^2:\", linear_model.score(wtX, Y))"
   ]
  },
  {
   "cell_type": "markdown",
   "metadata": {},
   "source": [
    "**Question**: What do you notice about the $R^2$ values of the simple linear regression models and the multiple case?"
   ]
  },
  {
   "cell_type": "code",
   "execution_count": null,
   "metadata": {},
   "outputs": [],
   "source": []
  }
 ],
 "metadata": {
  "kernelspec": {
   "display_name": "Python 3",
   "language": "python",
   "name": "python3"
  },
  "language_info": {
   "codemirror_mode": {
    "name": "ipython",
    "version": 3
   },
   "file_extension": ".py",
   "mimetype": "text/x-python",
   "name": "python",
   "nbconvert_exporter": "python",
   "pygments_lexer": "ipython3",
   "version": "3.7.1"
  }
 },
 "nbformat": 4,
 "nbformat_minor": 2
}
