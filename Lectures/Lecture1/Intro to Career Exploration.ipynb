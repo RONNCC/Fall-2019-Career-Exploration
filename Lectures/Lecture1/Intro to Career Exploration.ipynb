{
 "cells": [
  {
   "cell_type": "markdown",
   "metadata": {},
   "source": [
    "# Lecture 1: Career Exploration Introduction\n",
    "## 9/17/19\n",
    "\n",
    "### Table Of Contents\n",
    "* [Introduction](#section1)\n",
    "* [What will we learn?](#section2)\n",
    "* [Homework and Submissions](#section3)\n",
    "\n",
    "\n",
    "\n",
    "### Hosted by and maintained by the [Student Association for Applied Statistics (SAAS)](https://saas.berkeley.edu). Originally authored by [Patrick Chao](mailto:prc@berkeley.edu) and [Ajay Raj](mailto:araj@berkeley.edu).\n",
    "\n"
   ]
  },
  {
   "cell_type": "markdown",
   "metadata": {},
   "source": [
    "<a id='section1'></a>\n",
    "# Introduction\n",
    "Hello! Welcome to Career Exploration Fall 2019!\n",
    "\n",
    "This is just an introductory notebook for practice working with datahub and discussing the semester schedule. Datahub is a fantastic resource as it allows us to utilize python and common packages without needing to install anaconda or deal with problems with packages!\n",
    "\n",
    "Run the code chunk below by clicking on it and pressing `shift enter`. These are all common packages we will import throughout the semesters."
   ]
  },
  {
   "cell_type": "code",
   "execution_count": 1,
   "metadata": {
    "collapsed": true
   },
   "outputs": [],
   "source": [
    "import pandas as pd\n",
    "import numpy as np\n",
    "from sklearn.linear_model import LinearRegression\n",
    "import matplotlib.pyplot as plt\n",
    "%matplotlib inline"
   ]
  },
  {
   "cell_type": "markdown",
   "metadata": {},
   "source": [
    "Ordinarily you would need to install anaconda as well as all the packages. This usually causes many problems with differing versions and installation issues. Datahub bypasses all of these by providing a environment you can use online! \n",
    "\n",
    "### Steps to download from Slack and unzip on Datahub.         \n",
    "1. Make sure you are in the slack workspace, navigate to the cx-s19 channel \n",
    "2. Download the LectureX.zip file\n",
    "1. Open datahub at http://datahub.berkeley.edu/ and log in with your berkeley account\n",
    "2. Click upload at the top right\n",
    "3. Upload LectureX.zip (X represents the lecture number, for example Lecture1.zip)\n",
    "4. Select 'new' at the top right of the datahub screen, and select terminal from the drop down\n",
    "5. Enter \"unzip LectureX.zip\"\n",
    "  * `unzip LectureX.zip`\n",
    "6. Open the LectureX folder and open the ipynb file inside the LectureX folder\n",
    "\n",
    "\n",
    "Our main source of file sharing will be uploading to slack. Remember to upload the entire zip file to Datahub and unzip. "
   ]
  },
  {
   "cell_type": "markdown",
   "metadata": {},
   "source": [
    "<a id='section2'></a>\n",
    "# What will we learn?\n",
    "\n",
    "This semester will go over many topics on a relatively high level. We begin with introducing jupyter notebooks (what you are reading from right now!) and use these to teach most of our lectures. Jupyter notebooks are incredibly useful as they allow you to run separate chunks of code at a time, without having to run the entire program at once.\n",
    "\n",
    "We aim to go through the following topics for the semester.\n",
    "1. Introduction & Datahub\n",
    "2. Intro to Python\n",
    "3. Numpy/Pandas\n",
    "4. Visualizations and Linear Regression\n",
    "5. Intro to Linear Algebra for Data Science\n",
    "6. Intro to Machine Learning\n",
    "7. Bias Variance, Regularization\n",
    "8. Kaggle 1 Data Cleaning and Exploratory Data Analysis\n",
    "9. Kaggle 2 Decision Trees, Random Forest, Boosting\n",
    "10. Kaggle 3 Neural Networks\n",
    "11. Kaggle 4 Recap\n",
    "\n",
    "\n",
    "As you can see, the semester is packed full of various concepts, from statistical ideas such as bias and variance to machine learning concepts like neural networks and decision trees.\n",
    "\n",
    "The semester is structured so that you will be able to accumulate foundational skills, learn more advanced concepts, and apply them to a final Kaggle competition. \n",
    "\n",
    "The course material is being written by our lovely Education committee! You will get to meet them over the course of the semester as we are rotating lecturers.\n",
    "\n",
    "This schedule is quite ambitious and fast paced as it aims to cover a very large amount of material. Please let us know if you ever have feedback, have questions, or you are just looking for some more help! We are all happy to help out. You can always reach us over slack. \n",
    "\n",
    "We also hold many workshops and socials over the semester! We hope that you are all able to come participate and have a great time!"
   ]
  },
  {
   "cell_type": "markdown",
   "metadata": {},
   "source": [
    "<a id='section3'></a>\n",
    "# Homework and Submissions"
   ]
  },
  {
   "cell_type": "markdown",
   "metadata": {},
   "source": [
    "This semester, we are attempting to have small homework assignments each week. These are meant to be low effort and low stress assignments that help all the students stay up to date and on top of the material. \n",
    "\n",
    "We'll also be tracking your progress along the way! At the bottom of every Jupyter Notebook you'll work with this semester, there will be a cell like the one below. When you run it (shift-enter), it will submit what you've written in specific cells in the notebook (could be exercises, responses, polls) so we can give you feedback on what you've learned so far!"
   ]
  },
  {
   "cell_type": "markdown",
   "metadata": {},
   "source": [
    "In the cells below, write your name, major, a fun fact about yourself, a short game, and a quick survey. Make sure to hit Save (File > Save and Checkpoint) or Ctrl/Command-S after you've finished writing. **Make sure you do not delete the cells for submission or you will need to redownload from slack!**"
   ]
  },
  {
   "cell_type": "markdown",
   "metadata": {
    "tags": [
     "name"
    ]
   },
   "source": [
    "**Name**: Ajay Raj"
   ]
  },
  {
   "cell_type": "markdown",
   "metadata": {
    "tags": [
     "major"
    ]
   },
   "source": [
    "**Major**: Computer Science"
   ]
  },
  {
   "cell_type": "markdown",
   "metadata": {
    "tags": [
     "fun-fact"
    ]
   },
   "source": [
    "**Fun Fact**: I LOVE SUSA"
   ]
  },
  {
   "cell_type": "markdown",
   "metadata": {},
   "source": [
    "**In the cell below, write a number 1 to 100 inclusive. Whoever writes the number closest to 2/3 (66%) of the average wins a prize:**"
   ]
  },
  {
   "cell_type": "markdown",
   "metadata": {
    "tags": [
     "number"
    ]
   },
   "source": [
    "0"
   ]
  },
  {
   "cell_type": "markdown",
   "metadata": {},
   "source": [
    "**Next week we are having a lecture on Python. We are considering two separate lectures, one for intermediate users and one introduction lecture. Would you be interested in the intermediate or introduction lecture? Answer \"Intermediate\" or \"Introduction\" below**: \n"
   ]
  },
  {
   "cell_type": "markdown",
   "metadata": {
    "tags": [
     "python_lecture"
    ]
   },
   "source": [
    "Nah"
   ]
  },
  {
   "cell_type": "markdown",
   "metadata": {},
   "source": [
    "**Save your file and then submit by pressing shift enter on the cell below!**"
   ]
  },
  {
   "cell_type": "code",
   "execution_count": 3,
   "metadata": {},
   "outputs": [
    {
     "name": "stdout",
     "output_type": "stream",
     "text": [
      "Reading files in directory...\n",
      "Parsed /Users/ajay/src/susa/Fall-2019-Career-Exploration/Lectures/Lecture1/Intro to Career Exploration.ipynb\n",
      "Enter your Berkeley email address: araj@berkeley.edu\n",
      "Posting answers for Intro to Career Exploration\n",
      "Submitted!\n"
     ]
    }
   ],
   "source": [
    "from submit import create_and_submit\n",
    "\n",
    "create_and_submit()"
   ]
  },
  {
   "cell_type": "markdown",
   "metadata": {},
   "source": [
    "Run the cell below to make sure everything runs fine. "
   ]
  },
  {
   "cell_type": "code",
   "execution_count": 4,
   "metadata": {},
   "outputs": [
    {
     "data": {
      "image/png": "[encoded data removed]",
      "text/plain": [
       "<matplotlib.figure.Figure at 0x112d1ae48>"
      ]
     },
     "metadata": {},
     "output_type": "display_data"
    }
   ],
   "source": [
    "func = lambda x: 4*x+2\n",
    "samples = 100\n",
    "data_range = [0,1]\n",
    "\n",
    "\n",
    "x = np.random.uniform(data_range[0],data_range[1],(samples,1))\n",
    "y = func(x)+np.random.normal(scale=3,size=(samples,1))\n",
    "model = LinearRegression().fit(x, y)\n",
    "predictions = model.predict(np.array(data_range).reshape(-1,1))\n",
    "\n",
    "plt.scatter(x,y)\n",
    "plt.plot(data_range, list(map(func,data_range)),label=\"Truth\")\n",
    "plt.plot(data_range, predictions,label=\"Prediction\")\n",
    "plt.xlabel(\"X\")\n",
    "plt.ylabel(\"Y\")\n",
    "plt.title(\"Linear regression\")\n",
    "plt.legend()\n",
    "plt.show()"
   ]
  }
 ],
 "metadata": {
  "celltoolbar": "Tags",
  "kernelspec": {
   "display_name": "Python (deeplearning)",
   "language": "python",
   "name": "deeplearning"
  },
  "language_info": {
   "codemirror_mode": {
    "name": "ipython",
    "version": 3
   },
   "file_extension": ".py",
   "mimetype": "text/x-python",
   "name": "python",
   "nbconvert_exporter": "python",
   "pygments_lexer": "ipython3",
   "version": "3.6.3"
  }
 },
 "nbformat": 4,
 "nbformat_minor": 2
}
