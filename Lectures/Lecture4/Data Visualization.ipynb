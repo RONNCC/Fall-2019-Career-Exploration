{
 "cells": [
  {
   "cell_type": "markdown",
   "metadata": {},
   "source": [
    "# Lecture 4: Data Visualization\n",
    "## 10/13/19\n",
    "### Hosted and maintained by [Student Association for Applied Statistics (SAAS)] (https://saas.berkeley.edu). Authored by [Angela Zhou](mailto:zhoa210@berkeley.edu) and [Ellis Cho](mailto:choellis0510@berkeley.edu)"
   ]
  },
  {
   "cell_type": "markdown",
   "metadata": {
    "collapsed": true
   },
   "source": [
    "Ellis:\n",
    "\n",
    "## Steps for changing this notebook:\n",
    "\n",
    "## Accessing the notebook\n",
    " 1. go to the correct github folder `Fall-2019-Career-Exploration`on your laptop terminal and `cd` into it\n",
    " 2. type `git pull --rebase` \n",
    " > VERY IMPORTANT STEP!!\n",
    " > this will update your local folder with whatever has been done and most recently put into the shared github folder\n",
    " 3. go into  `Lecture4` and type `jupyter notebook` to run your local host \n",
    " 4. Click on the \"Data Visualization\" notebook\n",
    " 5. Then do whatever you want to the notebook\n",
    " 6. Be sure to save your notebook frequently (with \"Save and Checkpoint\")\n",
    " \n",
    "## When you're done\n",
    "1. Save and Checkpoint the notebook \n",
    "2. Go to your terminal\n",
    "3. Press \"control\" and \"c\" at the same time to exit form your local jupyter notebook thing\n",
    "4. Type \"y\" and enter\n",
    "5. Then type `git status` \n",
    "> this will show the status of your github repo. It should show you the name of the file you changed in RED\n",
    "6. Then type `git add [name of file you changed]`\n",
    "7. Type `git status` again to check the status. The file name should now be GREEN which is good because that means that git is tracking your file\n",
    "8. Type `git commit -m \"[message]\"` The message can be whatever you want but please make it informative. Also this has to be a string so don't forget your quotes\n",
    "9. VERY IMPORTANT!! Type `git pull --rebase`\n",
    " > If you forget this we will have merge conflicts and want to cry :'(\n",
    "10. Then type `git push` and this will push your file to the official SUSA github repo. \n",
    " > PLEASE PLEASE PLEASE ALWAYS make sure you type `git pull --rebase` before you push\n",
    "11. This should be it I hope lmao \n",
    "    "
   ]
  },
  {
   "cell_type": "code",
   "execution_count": null,
   "metadata": {
    "collapsed": true
   },
   "outputs": [],
   "source": []
  }
 ],
 "metadata": {
  "kernelspec": {
   "display_name": "Python 3",
   "language": "python",
   "name": "python3"
  },
  "language_info": {
   "codemirror_mode": {
    "name": "ipython",
    "version": 3
   },
   "file_extension": ".py",
   "mimetype": "text/x-python",
   "name": "python",
   "nbconvert_exporter": "python",
   "pygments_lexer": "ipython3",
   "version": "3.6.3"
  }
 },
 "nbformat": 4,
 "nbformat_minor": 2
}
